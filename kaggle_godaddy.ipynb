{
 "cells": [
  {
   "cell_type": "markdown",
   "id": "3eaf5492-6633-4953-ad92-b93e6a737ff0",
   "metadata": {},
   "source": [
    "# GoDaddy - Microbusiness Density Forecasting \n",
    "\n",
    "This notebook is created in spirit of this competition: https://www.kaggle.com/competitions/godaddy-microbusiness-density-forecasting/discussion?sort=recent-comments\n",
    "\n",
    "The objective is to have minimum SMAPE score, forecasting three, four and five months in advance; for this reason, I:\n",
    "- focus on predicting MBD growth instead of raw MBD\n",
    "- minimize MAE of predicted *growth*\n",
    "- adjust our CV strategy accordingly\n",
    "\n",
    "This project was done for leisure purposes, hence involves basic feature engineering for time series, and implements mostly computationally inexpensive algorithms for prediction\n",
    "\n",
    "I hope this is helpful for any future projects you may have :)"
   ]
  },
  {
   "cell_type": "code",
   "execution_count": 1,
   "id": "2b33a1bc-3714-4480-8a1b-1ef30310bf7a",
   "metadata": {},
   "outputs": [
    {
     "name": "stdout",
     "output_type": "stream",
     "text": [
      "INFO: Pandarallel will run on 4 workers.\n",
      "INFO: Pandarallel will use Memory file system to transfer data between the main process and workers.\n",
      "INFO: Pandarallel will run on 4 workers.\n",
      "INFO: Pandarallel will use Memory file system to transfer data between the main process and workers.\n"
     ]
    }
   ],
   "source": [
    "import pandas as pd\n",
    "import numpy as np\n",
    "import itertools\n",
    "import seaborn as sns\n",
    "from matplotlib import pyplot as plt\n",
    "import datetime as dt\n",
    "import warnings\n",
    "import geopandas as gpd\n",
    "import datetime as dt\n",
    "from math import radians, cos, sin, asin, sqrt\n",
    "import random\n",
    "\n",
    "from scipy.stats import linregress, median_abs_deviation\n",
    "\n",
    "from statsmodels.graphics.tsaplots import plot_acf, plot_pacf\n",
    "\n",
    "from sklearn.preprocessing import StandardScaler, QuantileTransformer\n",
    "from sklearn.model_selection import cross_val_score, cross_val_predict, cross_validate, cross_val_predict\n",
    "from sklearn.ensemble import RandomForestRegressor\n",
    "from sklearn.inspection import permutation_importance\n",
    "from sklearn.svm import LinearSVR\n",
    "# Walking window CV:\n",
    "from sklearn.metrics import mean_absolute_error, mean_squared_error\n",
    "from sklearn.metrics import make_scorer\n",
    "# bayes opt\n",
    "from bayes_opt import BayesianOptimization\n",
    "# light gbm\n",
    "from lightgbm import LGBMRegressor\n",
    "# kernel + SGD\n",
    "from sklearn.kernel_approximation import RBFSampler, SkewedChi2Sampler, PolynomialCountSketch, Nystroem\n",
    "from sklearn.linear_model import SGDRegressor\n",
    "\n",
    "\n",
    "# grouped time series split\n",
    "from mlxtend.evaluate.time_series import (\n",
    "    GroupTimeSeriesSplit,\n",
    "    plot_splits,\n",
    "    print_cv_info,\n",
    "    print_split_info,\n",
    ")\n",
    "\n",
    "\n",
    "# handling zip files\n",
    "import os\n",
    "import urllib # for downloads\n",
    "import zipfile # for unzipping\n",
    "\n",
    "# performance\n",
    "from numba import jit\n",
    "from pandarallel import pandarallel\n",
    "pandarallel.initialize()\n",
    "\n",
    "\n",
    "# dashboard\n",
    "import dash\n",
    "from dash import dcc, html, Input, Output\n",
    "import dash_bootstrap_components as dbc\n",
    "import plotly.graph_objs as go\n",
    "\n",
    "\n",
    "\n",
    "####################\n",
    "# custom functions #\n",
    "####################\n",
    "from CustomFunctions import preprocessing_functions as pfunc\n",
    "from CustomFunctions import forecasting_functions as ffunc"
   ]
  },
  {
   "cell_type": "code",
   "execution_count": 2,
   "id": "4dfdfdeb-18cb-4ac5-ac92-a7a950a275bc",
   "metadata": {},
   "outputs": [],
   "source": [
    "# settings for forecasting\n",
    "lag_list = [1,2,3]\n",
    "lag_rolling_list = [1]\n",
    "max_neighbors = 2\n",
    "n_rolling_mean = 3\n",
    "fourier_set = False\n",
    "states_dummy = False\n",
    "winsorize = True\n",
    "winsorize_thresh = 100\n",
    "k_gwt = 10**(-3)\n",
    "# for sklearn functions\n",
    "n_jobs_skl = 7\n",
    "\n",
    "\n",
    "# below should not be modified!\n",
    "max_neighbors = max(min(max_neighbors, 5), 0)\n",
    "neighb_list = list(range(1,max_neighbors+1))\n",
    "lag_neigh_c = list(itertools.product(lag_list, neighb_list))"
   ]
  },
  {
   "cell_type": "markdown",
   "id": "f58ea763-4d9b-42d1-a789-ba8fbd94623d",
   "metadata": {
    "tags": []
   },
   "source": [
    "## Reading data"
   ]
  },
  {
   "cell_type": "code",
   "execution_count": 3,
   "id": "f96a7a27-0f42-46c3-8b51-c782f133a1a1",
   "metadata": {},
   "outputs": [],
   "source": [
    "train_df = pd.read_csv('data/train.csv')\n",
    "train_df['year'] = [x.year for x in pd.to_datetime(train_df.first_day_of_month, format=\"%Y/%m/%d\").astype('datetime64[Y]')]\n",
    "train_df['year'] = train_df['year'].astype(int)\n",
    "train_df.first_day_of_month = pd.to_datetime(train_df.first_day_of_month, format=\"%Y/%m/%d\")\n",
    "revealed_test_df = pd.read_csv('data/revealed_test.csv')\n",
    "test_df = pd.read_csv('data/test.csv')\n",
    "test_df['year'] = [x.year for x in pd.to_datetime(test_df.first_day_of_month, format=\"%Y/%m/%d\").astype('datetime64[Y]')]\n",
    "test_df['year'] = test_df['year'].astype(int)\n",
    "test_df.first_day_of_month = pd.to_datetime(test_df.first_day_of_month, format=\"%Y/%m/%d\")\n",
    "census_starter = pd.read_csv('data/census_starter.csv', index_col=None)\n",
    "pop_data = pd.read_csv('data/PopulationEstimates.csv', index_col=None, encoding='latin-1')"
   ]
  },
  {
   "cell_type": "code",
   "execution_count": 4,
   "id": "5ef6da10-0598-4597-a3d3-7e95044a65c5",
   "metadata": {},
   "outputs": [],
   "source": [
    "revealed_test_df['year'] = 2022"
   ]
  },
  {
   "cell_type": "code",
   "execution_count": 5,
   "id": "4b0edf7c-16d9-4a80-ad5e-9b3573007926",
   "metadata": {},
   "outputs": [],
   "source": [
    "train_df = pd.concat([train_df, revealed_test_df])\n",
    "test_df = test_df[~test_df['first_day_of_month'].isin(revealed_test_df['first_day_of_month'].unique())]"
   ]
  },
  {
   "cell_type": "code",
   "execution_count": 6,
   "id": "23617e3b-fbc1-4d48-90f4-6e62479da780",
   "metadata": {},
   "outputs": [
    {
     "name": "stderr",
     "output_type": "stream",
     "text": [
      "/tmp/ipykernel_10446/3809519405.py:1: FutureWarning: Inferring datetime64[ns] from data containing strings is deprecated and will be removed in a future version. To retain the old behavior explicitly pass Series(data, dtype=datetime64[ns])\n",
      "  train_df = train_df.sort_values(['first_day_of_month', 'cfips'])\n"
     ]
    }
   ],
   "source": [
    "train_df = train_df.sort_values(['first_day_of_month', 'cfips'])\n",
    "test_df = test_df.sort_values(['first_day_of_month', 'cfips'])"
   ]
  },
  {
   "cell_type": "code",
   "execution_count": 7,
   "id": "306a6df9-2697-4946-b2fa-2b1b6c03cf30",
   "metadata": {},
   "outputs": [
    {
     "data": {
      "text/plain": [
       "(18810, 4)"
      ]
     },
     "execution_count": 7,
     "metadata": {},
     "output_type": "execute_result"
    }
   ],
   "source": [
    "test_df.shape"
   ]
  },
  {
   "cell_type": "code",
   "execution_count": 8,
   "id": "40b0aad3-1079-4d91-a0c1-b1b5ff092d4f",
   "metadata": {},
   "outputs": [
    {
     "data": {
      "text/plain": [
       "(128535, 8)"
      ]
     },
     "execution_count": 8,
     "metadata": {},
     "output_type": "execute_result"
    }
   ],
   "source": [
    "train_df.shape"
   ]
  },
  {
   "cell_type": "code",
   "execution_count": 9,
   "id": "66b21b93-a563-48ef-8881-3b874b713e24",
   "metadata": {},
   "outputs": [
    {
     "data": {
      "text/html": [
       "<div>\n",
       "<style scoped>\n",
       "    .dataframe tbody tr th:only-of-type {\n",
       "        vertical-align: middle;\n",
       "    }\n",
       "\n",
       "    .dataframe tbody tr th {\n",
       "        vertical-align: top;\n",
       "    }\n",
       "\n",
       "    .dataframe thead th {\n",
       "        text-align: right;\n",
       "    }\n",
       "</style>\n",
       "<table border=\"1\" class=\"dataframe\">\n",
       "  <thead>\n",
       "    <tr style=\"text-align: right;\">\n",
       "      <th></th>\n",
       "      <th>row_id</th>\n",
       "      <th>cfips</th>\n",
       "      <th>county</th>\n",
       "      <th>state</th>\n",
       "      <th>first_day_of_month</th>\n",
       "      <th>microbusiness_density</th>\n",
       "      <th>active</th>\n",
       "      <th>year</th>\n",
       "    </tr>\n",
       "  </thead>\n",
       "  <tbody>\n",
       "    <tr>\n",
       "      <th>28857</th>\n",
       "      <td>18089_2022-08-01</td>\n",
       "      <td>18089</td>\n",
       "      <td>Lake County</td>\n",
       "      <td>Indiana</td>\n",
       "      <td>2022-08-01 00:00:00</td>\n",
       "      <td>4.043347</td>\n",
       "      <td>15029</td>\n",
       "      <td>2022</td>\n",
       "    </tr>\n",
       "    <tr>\n",
       "      <th>3953</th>\n",
       "      <td>37179_2022-12-01</td>\n",
       "      <td>37179</td>\n",
       "      <td>Union County</td>\n",
       "      <td>North Carolina</td>\n",
       "      <td>2022-12-01</td>\n",
       "      <td>8.952792</td>\n",
       "      <td>15439</td>\n",
       "      <td>2022</td>\n",
       "    </tr>\n",
       "    <tr>\n",
       "      <th>85291</th>\n",
       "      <td>40117_2022-09-01</td>\n",
       "      <td>40117</td>\n",
       "      <td>Pawnee County</td>\n",
       "      <td>Oklahoma</td>\n",
       "      <td>2022-09-01 00:00:00</td>\n",
       "      <td>2.745192</td>\n",
       "      <td>344</td>\n",
       "      <td>2022</td>\n",
       "    </tr>\n",
       "    <tr>\n",
       "      <th>3561</th>\n",
       "      <td>34019_2022-12-01</td>\n",
       "      <td>34019</td>\n",
       "      <td>Hunterdon County</td>\n",
       "      <td>New Jersey</td>\n",
       "      <td>2022-12-01</td>\n",
       "      <td>11.672018</td>\n",
       "      <td>11778</td>\n",
       "      <td>2022</td>\n",
       "    </tr>\n",
       "    <tr>\n",
       "      <th>28411</th>\n",
       "      <td>18067_2021-03-01</td>\n",
       "      <td>18067</td>\n",
       "      <td>Howard County</td>\n",
       "      <td>Indiana</td>\n",
       "      <td>2021-03-01 00:00:00</td>\n",
       "      <td>2.986762</td>\n",
       "      <td>1902</td>\n",
       "      <td>2021</td>\n",
       "    </tr>\n",
       "  </tbody>\n",
       "</table>\n",
       "</div>"
      ],
      "text/plain": [
       "                 row_id  cfips            county           state  \\\n",
       "28857  18089_2022-08-01  18089       Lake County         Indiana   \n",
       "3953   37179_2022-12-01  37179      Union County  North Carolina   \n",
       "85291  40117_2022-09-01  40117     Pawnee County        Oklahoma   \n",
       "3561   34019_2022-12-01  34019  Hunterdon County      New Jersey   \n",
       "28411  18067_2021-03-01  18067     Howard County         Indiana   \n",
       "\n",
       "        first_day_of_month  microbusiness_density  active  year  \n",
       "28857  2022-08-01 00:00:00               4.043347   15029  2022  \n",
       "3953            2022-12-01               8.952792   15439  2022  \n",
       "85291  2022-09-01 00:00:00               2.745192     344  2022  \n",
       "3561            2022-12-01              11.672018   11778  2022  \n",
       "28411  2021-03-01 00:00:00               2.986762    1902  2021  "
      ]
     },
     "execution_count": 9,
     "metadata": {},
     "output_type": "execute_result"
    }
   ],
   "source": [
    "train_df.sample(5, random_state=1)"
   ]
  },
  {
   "cell_type": "code",
   "execution_count": 10,
   "id": "94771b89-8fff-4b42-b55d-e6cb00c960c1",
   "metadata": {},
   "outputs": [
    {
     "data": {
      "text/html": [
       "<div>\n",
       "<style scoped>\n",
       "    .dataframe tbody tr th:only-of-type {\n",
       "        vertical-align: middle;\n",
       "    }\n",
       "\n",
       "    .dataframe tbody tr th {\n",
       "        vertical-align: top;\n",
       "    }\n",
       "\n",
       "    .dataframe thead th {\n",
       "        text-align: right;\n",
       "    }\n",
       "</style>\n",
       "<table border=\"1\" class=\"dataframe\">\n",
       "  <thead>\n",
       "    <tr style=\"text-align: right;\">\n",
       "      <th></th>\n",
       "      <th>row_id</th>\n",
       "      <th>cfips</th>\n",
       "      <th>first_day_of_month</th>\n",
       "      <th>year</th>\n",
       "    </tr>\n",
       "  </thead>\n",
       "  <tbody>\n",
       "    <tr>\n",
       "      <th>11769</th>\n",
       "      <td>46013_2023-02-01</td>\n",
       "      <td>46013</td>\n",
       "      <td>2023-02-01</td>\n",
       "      <td>2023</td>\n",
       "    </tr>\n",
       "    <tr>\n",
       "      <th>8581</th>\n",
       "      <td>44007_2023-01-01</td>\n",
       "      <td>44007</td>\n",
       "      <td>2023-01-01</td>\n",
       "      <td>2023</td>\n",
       "    </tr>\n",
       "    <tr>\n",
       "      <th>22457</th>\n",
       "      <td>13259_2023-06-01</td>\n",
       "      <td>13259</td>\n",
       "      <td>2023-06-01</td>\n",
       "      <td>2023</td>\n",
       "    </tr>\n",
       "    <tr>\n",
       "      <th>18293</th>\n",
       "      <td>48199_2023-04-01</td>\n",
       "      <td>48199</td>\n",
       "      <td>2023-04-01</td>\n",
       "      <td>2023</td>\n",
       "    </tr>\n",
       "    <tr>\n",
       "      <th>24521</th>\n",
       "      <td>48115_2023-06-01</td>\n",
       "      <td>48115</td>\n",
       "      <td>2023-06-01</td>\n",
       "      <td>2023</td>\n",
       "    </tr>\n",
       "  </tbody>\n",
       "</table>\n",
       "</div>"
      ],
      "text/plain": [
       "                 row_id  cfips first_day_of_month  year\n",
       "11769  46013_2023-02-01  46013         2023-02-01  2023\n",
       "8581   44007_2023-01-01  44007         2023-01-01  2023\n",
       "22457  13259_2023-06-01  13259         2023-06-01  2023\n",
       "18293  48199_2023-04-01  48199         2023-04-01  2023\n",
       "24521  48115_2023-06-01  48115         2023-06-01  2023"
      ]
     },
     "execution_count": 10,
     "metadata": {},
     "output_type": "execute_result"
    }
   ],
   "source": [
    "test_df.sample(5, random_state=1)"
   ]
  },
  {
   "cell_type": "code",
   "execution_count": 11,
   "id": "9484e692-c8b8-4cf4-8477-7c912a908ce0",
   "metadata": {},
   "outputs": [
    {
     "data": {
      "text/plain": [
       "row_id                0\n",
       "cfips                 0\n",
       "first_day_of_month    0\n",
       "year                  0\n",
       "dtype: int64"
      ]
     },
     "execution_count": 11,
     "metadata": {},
     "output_type": "execute_result"
    }
   ],
   "source": [
    "test_df.isna().sum()"
   ]
  },
  {
   "cell_type": "code",
   "execution_count": 12,
   "id": "6a8b6cf0-1aff-4384-b815-76a28bac0bda",
   "metadata": {},
   "outputs": [
    {
     "name": "stdout",
     "output_type": "stream",
     "text": [
      "<class 'pandas.core.frame.DataFrame'>\n",
      "Int64Index: 128535 entries, 0 to 6269\n",
      "Data columns (total 8 columns):\n",
      " #   Column                 Non-Null Count   Dtype  \n",
      "---  ------                 --------------   -----  \n",
      " 0   row_id                 128535 non-null  object \n",
      " 1   cfips                  128535 non-null  int64  \n",
      " 2   county                 128535 non-null  object \n",
      " 3   state                  128535 non-null  object \n",
      " 4   first_day_of_month     128535 non-null  object \n",
      " 5   microbusiness_density  128535 non-null  float64\n",
      " 6   active                 128535 non-null  int64  \n",
      " 7   year                   128535 non-null  int64  \n",
      "dtypes: float64(1), int64(3), object(4)\n",
      "memory usage: 8.8+ MB\n"
     ]
    }
   ],
   "source": [
    "train_df.info()"
   ]
  },
  {
   "cell_type": "code",
   "execution_count": 13,
   "id": "2123bc82-dee3-479b-ba51-f16903abab58",
   "metadata": {},
   "outputs": [
    {
     "data": {
      "text/plain": [
       "(3142, 26)"
      ]
     },
     "execution_count": 13,
     "metadata": {},
     "output_type": "execute_result"
    }
   ],
   "source": [
    "census_starter.shape"
   ]
  },
  {
   "cell_type": "code",
   "execution_count": 14,
   "id": "81f1803b-b060-4417-8243-b9ce8d3a888a",
   "metadata": {},
   "outputs": [
    {
     "data": {
      "text/html": [
       "<div>\n",
       "<style scoped>\n",
       "    .dataframe tbody tr th:only-of-type {\n",
       "        vertical-align: middle;\n",
       "    }\n",
       "\n",
       "    .dataframe tbody tr th {\n",
       "        vertical-align: top;\n",
       "    }\n",
       "\n",
       "    .dataframe thead th {\n",
       "        text-align: right;\n",
       "    }\n",
       "</style>\n",
       "<table border=\"1\" class=\"dataframe\">\n",
       "  <thead>\n",
       "    <tr style=\"text-align: right;\">\n",
       "      <th></th>\n",
       "      <th>pct_bb_2017</th>\n",
       "      <th>pct_bb_2018</th>\n",
       "      <th>pct_bb_2019</th>\n",
       "      <th>pct_bb_2020</th>\n",
       "      <th>pct_bb_2021</th>\n",
       "      <th>cfips</th>\n",
       "      <th>pct_college_2017</th>\n",
       "      <th>pct_college_2018</th>\n",
       "      <th>pct_college_2019</th>\n",
       "      <th>pct_college_2020</th>\n",
       "      <th>...</th>\n",
       "      <th>pct_it_workers_2017</th>\n",
       "      <th>pct_it_workers_2018</th>\n",
       "      <th>pct_it_workers_2019</th>\n",
       "      <th>pct_it_workers_2020</th>\n",
       "      <th>pct_it_workers_2021</th>\n",
       "      <th>median_hh_inc_2017</th>\n",
       "      <th>median_hh_inc_2018</th>\n",
       "      <th>median_hh_inc_2019</th>\n",
       "      <th>median_hh_inc_2020</th>\n",
       "      <th>median_hh_inc_2021</th>\n",
       "    </tr>\n",
       "  </thead>\n",
       "  <tbody>\n",
       "    <tr>\n",
       "      <th>1760</th>\n",
       "      <td>78.6</td>\n",
       "      <td>78.7</td>\n",
       "      <td>74.2</td>\n",
       "      <td>85.9</td>\n",
       "      <td>85.8</td>\n",
       "      <td>32029</td>\n",
       "      <td>16.4</td>\n",
       "      <td>20.4</td>\n",
       "      <td>21.8</td>\n",
       "      <td>23.2</td>\n",
       "      <td>...</td>\n",
       "      <td>4.7</td>\n",
       "      <td>5.2</td>\n",
       "      <td>7.2</td>\n",
       "      <td>7.2</td>\n",
       "      <td>7.1</td>\n",
       "      <td>63607</td>\n",
       "      <td>62284.0</td>\n",
       "      <td>66292</td>\n",
       "      <td>64000.0</td>\n",
       "      <td>66713.0</td>\n",
       "    </tr>\n",
       "    <tr>\n",
       "      <th>1735</th>\n",
       "      <td>68.8</td>\n",
       "      <td>74.5</td>\n",
       "      <td>75.4</td>\n",
       "      <td>77.2</td>\n",
       "      <td>77.7</td>\n",
       "      <td>31163</td>\n",
       "      <td>12.7</td>\n",
       "      <td>12.5</td>\n",
       "      <td>14.7</td>\n",
       "      <td>14.8</td>\n",
       "      <td>...</td>\n",
       "      <td>0.4</td>\n",
       "      <td>0.8</td>\n",
       "      <td>0.9</td>\n",
       "      <td>1.8</td>\n",
       "      <td>1.8</td>\n",
       "      <td>48704</td>\n",
       "      <td>51172.0</td>\n",
       "      <td>50781</td>\n",
       "      <td>53158.0</td>\n",
       "      <td>57579.0</td>\n",
       "    </tr>\n",
       "    <tr>\n",
       "      <th>1186</th>\n",
       "      <td>76.4</td>\n",
       "      <td>79.1</td>\n",
       "      <td>81.6</td>\n",
       "      <td>83.4</td>\n",
       "      <td>84.8</td>\n",
       "      <td>23019</td>\n",
       "      <td>16.7</td>\n",
       "      <td>17.2</td>\n",
       "      <td>17.5</td>\n",
       "      <td>17.7</td>\n",
       "      <td>...</td>\n",
       "      <td>1.7</td>\n",
       "      <td>1.6</td>\n",
       "      <td>1.8</td>\n",
       "      <td>1.5</td>\n",
       "      <td>1.4</td>\n",
       "      <td>47886</td>\n",
       "      <td>49374.0</td>\n",
       "      <td>50808</td>\n",
       "      <td>52128.0</td>\n",
       "      <td>55125.0</td>\n",
       "    </tr>\n",
       "    <tr>\n",
       "      <th>2803</th>\n",
       "      <td>83.3</td>\n",
       "      <td>84.9</td>\n",
       "      <td>86.5</td>\n",
       "      <td>87.8</td>\n",
       "      <td>88.9</td>\n",
       "      <td>49053</td>\n",
       "      <td>17.6</td>\n",
       "      <td>17.0</td>\n",
       "      <td>17.3</td>\n",
       "      <td>18.7</td>\n",
       "      <td>...</td>\n",
       "      <td>2.5</td>\n",
       "      <td>2.1</td>\n",
       "      <td>1.7</td>\n",
       "      <td>1.6</td>\n",
       "      <td>1.1</td>\n",
       "      <td>55175</td>\n",
       "      <td>56877.0</td>\n",
       "      <td>59839</td>\n",
       "      <td>61747.0</td>\n",
       "      <td>65040.0</td>\n",
       "    </tr>\n",
       "    <tr>\n",
       "      <th>3</th>\n",
       "      <td>62.0</td>\n",
       "      <td>66.1</td>\n",
       "      <td>69.2</td>\n",
       "      <td>76.1</td>\n",
       "      <td>74.6</td>\n",
       "      <td>1007</td>\n",
       "      <td>8.1</td>\n",
       "      <td>7.6</td>\n",
       "      <td>6.5</td>\n",
       "      <td>7.4</td>\n",
       "      <td>...</td>\n",
       "      <td>1.2</td>\n",
       "      <td>1.4</td>\n",
       "      <td>1.6</td>\n",
       "      <td>1.7</td>\n",
       "      <td>2.1</td>\n",
       "      <td>43404</td>\n",
       "      <td>45340.0</td>\n",
       "      <td>47542</td>\n",
       "      <td>51721.0</td>\n",
       "      <td>54277.0</td>\n",
       "    </tr>\n",
       "  </tbody>\n",
       "</table>\n",
       "<p>5 rows × 26 columns</p>\n",
       "</div>"
      ],
      "text/plain": [
       "      pct_bb_2017  pct_bb_2018  pct_bb_2019  pct_bb_2020  pct_bb_2021  cfips  \\\n",
       "1760         78.6         78.7         74.2         85.9         85.8  32029   \n",
       "1735         68.8         74.5         75.4         77.2         77.7  31163   \n",
       "1186         76.4         79.1         81.6         83.4         84.8  23019   \n",
       "2803         83.3         84.9         86.5         87.8         88.9  49053   \n",
       "3            62.0         66.1         69.2         76.1         74.6   1007   \n",
       "\n",
       "      pct_college_2017  pct_college_2018  pct_college_2019  pct_college_2020  \\\n",
       "1760              16.4              20.4              21.8              23.2   \n",
       "1735              12.7              12.5              14.7              14.8   \n",
       "1186              16.7              17.2              17.5              17.7   \n",
       "2803              17.6              17.0              17.3              18.7   \n",
       "3                  8.1               7.6               6.5               7.4   \n",
       "\n",
       "      ...  pct_it_workers_2017  pct_it_workers_2018  pct_it_workers_2019  \\\n",
       "1760  ...                  4.7                  5.2                  7.2   \n",
       "1735  ...                  0.4                  0.8                  0.9   \n",
       "1186  ...                  1.7                  1.6                  1.8   \n",
       "2803  ...                  2.5                  2.1                  1.7   \n",
       "3     ...                  1.2                  1.4                  1.6   \n",
       "\n",
       "      pct_it_workers_2020  pct_it_workers_2021  median_hh_inc_2017  \\\n",
       "1760                  7.2                  7.1               63607   \n",
       "1735                  1.8                  1.8               48704   \n",
       "1186                  1.5                  1.4               47886   \n",
       "2803                  1.6                  1.1               55175   \n",
       "3                     1.7                  2.1               43404   \n",
       "\n",
       "      median_hh_inc_2018  median_hh_inc_2019  median_hh_inc_2020  \\\n",
       "1760             62284.0               66292             64000.0   \n",
       "1735             51172.0               50781             53158.0   \n",
       "1186             49374.0               50808             52128.0   \n",
       "2803             56877.0               59839             61747.0   \n",
       "3                45340.0               47542             51721.0   \n",
       "\n",
       "      median_hh_inc_2021  \n",
       "1760             66713.0  \n",
       "1735             57579.0  \n",
       "1186             55125.0  \n",
       "2803             65040.0  \n",
       "3                54277.0  \n",
       "\n",
       "[5 rows x 26 columns]"
      ]
     },
     "execution_count": 14,
     "metadata": {},
     "output_type": "execute_result"
    }
   ],
   "source": [
    "census_starter.sample(5, random_state=1)"
   ]
  },
  {
   "cell_type": "code",
   "execution_count": 15,
   "id": "6b2788dd-562d-493c-b28a-1249d2cf37d8",
   "metadata": {},
   "outputs": [
    {
     "name": "stdout",
     "output_type": "stream",
     "text": [
      "<class 'pandas.core.frame.DataFrame'>\n",
      "RangeIndex: 3142 entries, 0 to 3141\n",
      "Data columns (total 26 columns):\n",
      " #   Column                 Non-Null Count  Dtype  \n",
      "---  ------                 --------------  -----  \n",
      " 0   pct_bb_2017            3142 non-null   float64\n",
      " 1   pct_bb_2018            3142 non-null   float64\n",
      " 2   pct_bb_2019            3142 non-null   float64\n",
      " 3   pct_bb_2020            3141 non-null   float64\n",
      " 4   pct_bb_2021            3141 non-null   float64\n",
      " 5   cfips                  3142 non-null   int64  \n",
      " 6   pct_college_2017       3142 non-null   float64\n",
      " 7   pct_college_2018       3142 non-null   float64\n",
      " 8   pct_college_2019       3142 non-null   float64\n",
      " 9   pct_college_2020       3141 non-null   float64\n",
      " 10  pct_college_2021       3141 non-null   float64\n",
      " 11  pct_foreign_born_2017  3142 non-null   float64\n",
      " 12  pct_foreign_born_2018  3142 non-null   float64\n",
      " 13  pct_foreign_born_2019  3142 non-null   float64\n",
      " 14  pct_foreign_born_2020  3141 non-null   float64\n",
      " 15  pct_foreign_born_2021  3141 non-null   float64\n",
      " 16  pct_it_workers_2017    3142 non-null   float64\n",
      " 17  pct_it_workers_2018    3141 non-null   float64\n",
      " 18  pct_it_workers_2019    3142 non-null   float64\n",
      " 19  pct_it_workers_2020    3141 non-null   float64\n",
      " 20  pct_it_workers_2021    3141 non-null   float64\n",
      " 21  median_hh_inc_2017     3142 non-null   int64  \n",
      " 22  median_hh_inc_2018     3141 non-null   float64\n",
      " 23  median_hh_inc_2019     3142 non-null   int64  \n",
      " 24  median_hh_inc_2020     3140 non-null   float64\n",
      " 25  median_hh_inc_2021     3140 non-null   float64\n",
      "dtypes: float64(23), int64(3)\n",
      "memory usage: 638.3 KB\n"
     ]
    }
   ],
   "source": [
    "census_starter.info()"
   ]
  },
  {
   "cell_type": "markdown",
   "id": "8cc5f090-9e2d-4a12-8a94-5f0a7fd2f4c3",
   "metadata": {},
   "source": [
    "### Census data\n",
    "\n",
    "For this dataset, we fill missing values and forecast for the year 2023 with linear interpolation\n",
    "\n",
    "Since this is panel data, we forecast per group"
   ]
  },
  {
   "cell_type": "code",
   "execution_count": 16,
   "id": "c6d48b95-abdc-4f7b-88d1-eba721f34625",
   "metadata": {},
   "outputs": [],
   "source": [
    "census_starter = pd.read_csv('data/census_starter.csv', index_col=None)\n",
    "census_df = census_starter.melt(id_vars=['cfips'])\n",
    "census_df['year'] = [int(x[-4:]) for x in census_df['variable']]\n",
    "census_df['year'] = census_df['year'].astype(int)\n",
    "census_df['variable'] = [x[:(len(x)-5)] for x in census_df['variable']]\n",
    "census_df = census_df.pivot(index=['year','cfips'], columns=['variable'], values='value').reset_index()\n",
    "census_df.year = census_df.year.astype(int)\n",
    "census_df = census_df.ffill(axis = 0)"
   ]
  },
  {
   "cell_type": "code",
   "execution_count": 17,
   "id": "a61e4cb3-d5a1-434f-9152-34177c6985a1",
   "metadata": {},
   "outputs": [
    {
     "data": {
      "text/html": [
       "<div>\n",
       "<style scoped>\n",
       "    .dataframe tbody tr th:only-of-type {\n",
       "        vertical-align: middle;\n",
       "    }\n",
       "\n",
       "    .dataframe tbody tr th {\n",
       "        vertical-align: top;\n",
       "    }\n",
       "\n",
       "    .dataframe thead th {\n",
       "        text-align: right;\n",
       "    }\n",
       "</style>\n",
       "<table border=\"1\" class=\"dataframe\">\n",
       "  <thead>\n",
       "    <tr style=\"text-align: right;\">\n",
       "      <th>variable</th>\n",
       "      <th>year</th>\n",
       "      <th>cfips</th>\n",
       "      <th>median_hh_inc</th>\n",
       "      <th>pct_bb</th>\n",
       "      <th>pct_college</th>\n",
       "      <th>pct_foreign_born</th>\n",
       "      <th>pct_it_workers</th>\n",
       "    </tr>\n",
       "  </thead>\n",
       "  <tbody>\n",
       "    <tr>\n",
       "      <th>6097</th>\n",
       "      <td>2018</td>\n",
       "      <td>53005</td>\n",
       "      <td>65650.0</td>\n",
       "      <td>82.8</td>\n",
       "      <td>18.4</td>\n",
       "      <td>10.6</td>\n",
       "      <td>1.6</td>\n",
       "    </tr>\n",
       "    <tr>\n",
       "      <th>7467</th>\n",
       "      <td>2019</td>\n",
       "      <td>23013</td>\n",
       "      <td>57751.0</td>\n",
       "      <td>84.8</td>\n",
       "      <td>21.2</td>\n",
       "      <td>2.3</td>\n",
       "      <td>1.9</td>\n",
       "    </tr>\n",
       "    <tr>\n",
       "      <th>506</th>\n",
       "      <td>2017</td>\n",
       "      <td>13243</td>\n",
       "      <td>30640.0</td>\n",
       "      <td>60.7</td>\n",
       "      <td>6.9</td>\n",
       "      <td>2.0</td>\n",
       "      <td>0.3</td>\n",
       "    </tr>\n",
       "    <tr>\n",
       "      <th>1565</th>\n",
       "      <td>2017</td>\n",
       "      <td>29165</td>\n",
       "      <td>74199.0</td>\n",
       "      <td>87.5</td>\n",
       "      <td>25.6</td>\n",
       "      <td>5.6</td>\n",
       "      <td>3.0</td>\n",
       "    </tr>\n",
       "    <tr>\n",
       "      <th>470</th>\n",
       "      <td>2017</td>\n",
       "      <td>13169</td>\n",
       "      <td>55110.0</td>\n",
       "      <td>77.7</td>\n",
       "      <td>12.3</td>\n",
       "      <td>0.9</td>\n",
       "      <td>0.8</td>\n",
       "    </tr>\n",
       "  </tbody>\n",
       "</table>\n",
       "</div>"
      ],
      "text/plain": [
       "variable  year  cfips  median_hh_inc  pct_bb  pct_college  pct_foreign_born  \\\n",
       "6097      2018  53005        65650.0    82.8         18.4              10.6   \n",
       "7467      2019  23013        57751.0    84.8         21.2               2.3   \n",
       "506       2017  13243        30640.0    60.7          6.9               2.0   \n",
       "1565      2017  29165        74199.0    87.5         25.6               5.6   \n",
       "470       2017  13169        55110.0    77.7         12.3               0.9   \n",
       "\n",
       "variable  pct_it_workers  \n",
       "6097                 1.6  \n",
       "7467                 1.9  \n",
       "506                  0.3  \n",
       "1565                 3.0  \n",
       "470                  0.8  "
      ]
     },
     "execution_count": 17,
     "metadata": {},
     "output_type": "execute_result"
    }
   ],
   "source": [
    "census_df.sample(5, random_state=1)"
   ]
  },
  {
   "cell_type": "code",
   "execution_count": 18,
   "id": "cc5cd915-bf16-407d-a25f-9a3eee6c83d0",
   "metadata": {},
   "outputs": [
    {
     "data": {
      "image/png": "[encoded data removed]",
      "text/plain": [
       "<Figure size 800x150 with 1 Axes>"
      ]
     },
     "metadata": {},
     "output_type": "display_data"
    },
    {
     "data": {
      "image/png": "[encoded data removed]",
      "text/plain": [
       "<Figure size 800x150 with 1 Axes>"
      ]
     },
     "metadata": {},
     "output_type": "display_data"
    },
    {
     "data": {
      "image/png": "[encoded data removed]",
      "text/plain": [
       "<Figure size 800x150 with 1 Axes>"
      ]
     },
     "metadata": {},
     "output_type": "display_data"
    },
    {
     "data": {
      "image/png": "[encoded data removed]",
      "text/plain": [
       "<Figure size 800x150 with 1 Axes>"
      ]
     },
     "metadata": {},
     "output_type": "display_data"
    },
    {
     "data": {
      "image/png": "[encoded data removed]",
      "text/plain": [
       "<Figure size 800x150 with 1 Axes>"
      ]
     },
     "metadata": {},
     "output_type": "display_data"
    }
   ],
   "source": [
    "for column in census_df.drop('cfips', axis=1).columns[1:]:\n",
    "    sns.set()\n",
    "    fig, ax = plt.subplots()\n",
    "    sns.boxplot(data = census_df[census_df.cfips==13169], x='year',y=('median_hh_inc'))\n",
    "    fig.set_size_inches(8,1.5)\n",
    "    for item in ax.get_xticklabels():\n",
    "        item.set_rotation(90)"
   ]
  },
  {
   "cell_type": "markdown",
   "id": "993c9258-c536-48f1-9fc6-592dbc8cfbde",
   "metadata": {},
   "source": [
    "**Note:** this function could use some optimization (I have not dedicated attention to this part's performance)"
   ]
  },
  {
   "cell_type": "code",
   "execution_count": 19,
   "id": "4f954a30-a001-4d0e-9951-cc07dba72e53",
   "metadata": {},
   "outputs": [],
   "source": [
    "def forecast_per_group(col, year, cfips):\n",
    "    _X=census_df[census_df.cfips == cfips]['year']\n",
    "    _y=census_df[census_df.cfips == cfips][col]\n",
    "    slope, intercept, _, _, _ = linregress(_X, _y)\n",
    "    return intercept + year*slope\n",
    "\n",
    "def forecast_array(df, col, year):\n",
    "    return [forecast_per_group(col, year, cfips) for cfips in df.cfips]\n",
    "\n",
    "def forecast_fill_df(df, year):\n",
    "    df_return = df.copy()\n",
    "    _column_list = census_df.columns[2:]\n",
    "    for column in _column_list:\n",
    "        df_return[column] = forecast_array(df, column, year)\n",
    "    return df_return"
   ]
  },
  {
   "cell_type": "code",
   "execution_count": 20,
   "id": "ad0d8a13-4b36-4347-998d-d61c5d07f6fc",
   "metadata": {},
   "outputs": [],
   "source": [
    "census_2022 = pd.DataFrame(np.repeat(2022,len(census_df.cfips.unique())), columns=['year'])\n",
    "census_2022['cfips'] = census_df.cfips.unique()"
   ]
  },
  {
   "cell_type": "code",
   "execution_count": 21,
   "id": "6ddd21fa-631a-45ee-a000-667b9625d41e",
   "metadata": {},
   "outputs": [],
   "source": [
    "census_2022 = forecast_fill_df(census_2022, 2022)"
   ]
  },
  {
   "cell_type": "code",
   "execution_count": 22,
   "id": "554e30f5-49f2-4447-b7f0-636989ab1a1c",
   "metadata": {},
   "outputs": [],
   "source": [
    "census_2023 = pd.DataFrame(np.repeat(2023,len(census_df.cfips.unique())), columns=['year'])\n",
    "census_2023['cfips'] = census_df.cfips.unique()\n",
    "census_2023 = forecast_fill_df(census_2023, 2023)"
   ]
  },
  {
   "cell_type": "code",
   "execution_count": 23,
   "id": "a93b7659-00d2-4c87-8a4b-2d0eb769526e",
   "metadata": {},
   "outputs": [
    {
     "name": "stderr",
     "output_type": "stream",
     "text": [
      "/tmp/ipykernel_10446/3864560008.py:1: FutureWarning: The frame.append method is deprecated and will be removed from pandas in a future version. Use pandas.concat instead.\n",
      "  census_df = census_df.append(census_2022, ignore_index = True).append(census_2023, ignore_index = True)\n"
     ]
    }
   ],
   "source": [
    "census_df = census_df.append(census_2022, ignore_index = True).append(census_2023, ignore_index = True)"
   ]
  },
  {
   "cell_type": "markdown",
   "id": "2c79d84e-9bb0-40ee-aa1a-5fc727c582a4",
   "metadata": {},
   "source": [
    "#### Merging to the train and test datasets"
   ]
  },
  {
   "cell_type": "code",
   "execution_count": 24,
   "id": "7b7c3d52-6e68-46e8-82af-23e81bb34dff",
   "metadata": {},
   "outputs": [],
   "source": [
    "train_df = pd.merge(train_df, census_df, how='left', left_on=['cfips','year'], right_on=['cfips','year'])"
   ]
  },
  {
   "cell_type": "code",
   "execution_count": 25,
   "id": "11ae75a1-b4a5-4f98-9778-4525a7849837",
   "metadata": {},
   "outputs": [],
   "source": [
    "test_df = pd.merge(test_df, census_df, how='left', left_on=['cfips','year'], right_on=['cfips','year'])\n",
    "test_df = pd.merge(test_df, train_df[['cfips','county','state']], how='left', left_on=['cfips'], right_on=['cfips']).drop_duplicates()"
   ]
  },
  {
   "cell_type": "markdown",
   "id": "9a44d36a-8566-43f7-a776-d791cfca7736",
   "metadata": {},
   "source": [
    "### Entrepreneur survey\n",
    "\n",
    "Extra data regarding traffic, orders, etcetera for microbusinesses\n",
    "\n",
    "Source: https://www.godaddy.com/ventureforward/microbusiness-datahub/"
   ]
  },
  {
   "cell_type": "code",
   "execution_count": 26,
   "id": "07f95ab4-d2cb-47d8-94ce-8ac0b9855692",
   "metadata": {},
   "outputs": [],
   "source": [
    "vf_data = pd.read_csv('data/commercial_activity/VF_indcom_counties_Q222.csv')\n",
    "vf_data = vf_data.dropna(axis=0)\n",
    "vf_data.cfips = vf_data.cfips.astype(int)"
   ]
  },
  {
   "cell_type": "code",
   "execution_count": 27,
   "id": "9e443ada-e601-4359-8d4d-f955116d12a8",
   "metadata": {},
   "outputs": [
    {
     "data": {
      "text/html": [
       "<div>\n",
       "<style scoped>\n",
       "    .dataframe tbody tr th:only-of-type {\n",
       "        vertical-align: middle;\n",
       "    }\n",
       "\n",
       "    .dataframe tbody tr th {\n",
       "        vertical-align: top;\n",
       "    }\n",
       "\n",
       "    .dataframe thead th {\n",
       "        text-align: right;\n",
       "    }\n",
       "</style>\n",
       "<table border=\"1\" class=\"dataframe\">\n",
       "  <thead>\n",
       "    <tr style=\"text-align: right;\">\n",
       "      <th></th>\n",
       "      <th>cfips</th>\n",
       "      <th>county</th>\n",
       "      <th>state</th>\n",
       "      <th>groupflag</th>\n",
       "      <th>total_pop_20</th>\n",
       "      <th>orders_rank_aug19</th>\n",
       "      <th>orders_rank_sep19</th>\n",
       "      <th>orders_rank_oct19</th>\n",
       "      <th>orders_rank_nov19</th>\n",
       "      <th>orders_rank_dec19</th>\n",
       "      <th>...</th>\n",
       "      <th>avg_traffic_oct21</th>\n",
       "      <th>avg_traffic_nov21</th>\n",
       "      <th>avg_traffic_dec21</th>\n",
       "      <th>avg_traffic_jan22</th>\n",
       "      <th>avg_traffic_feb22</th>\n",
       "      <th>avg_traffic_mar22</th>\n",
       "      <th>avg_traffic_apr22</th>\n",
       "      <th>avg_traffic_may22</th>\n",
       "      <th>avg_traffic_jun22</th>\n",
       "      <th>avg_lifespan_mths</th>\n",
       "    </tr>\n",
       "  </thead>\n",
       "  <tbody>\n",
       "    <tr>\n",
       "      <th>0</th>\n",
       "      <td>1001</td>\n",
       "      <td>Autauga</td>\n",
       "      <td>AL</td>\n",
       "      <td>30k - 225k pop</td>\n",
       "      <td>55639.0</td>\n",
       "      <td>668.0</td>\n",
       "      <td>511.0</td>\n",
       "      <td>723.0</td>\n",
       "      <td>624.0</td>\n",
       "      <td>1023.0</td>\n",
       "      <td>...</td>\n",
       "      <td>419.1</td>\n",
       "      <td>455.9</td>\n",
       "      <td>480.9</td>\n",
       "      <td>663.0</td>\n",
       "      <td>629.7</td>\n",
       "      <td>647.6</td>\n",
       "      <td>435.2</td>\n",
       "      <td>415.0</td>\n",
       "      <td>398.9</td>\n",
       "      <td>12.4</td>\n",
       "    </tr>\n",
       "    <tr>\n",
       "      <th>1</th>\n",
       "      <td>1003</td>\n",
       "      <td>Baldwin</td>\n",
       "      <td>AL</td>\n",
       "      <td>30k - 225k pop</td>\n",
       "      <td>218289.0</td>\n",
       "      <td>804.0</td>\n",
       "      <td>780.0</td>\n",
       "      <td>831.0</td>\n",
       "      <td>899.0</td>\n",
       "      <td>705.0</td>\n",
       "      <td>...</td>\n",
       "      <td>124.2</td>\n",
       "      <td>113.1</td>\n",
       "      <td>108.1</td>\n",
       "      <td>126.7</td>\n",
       "      <td>125.9</td>\n",
       "      <td>135.4</td>\n",
       "      <td>134.5</td>\n",
       "      <td>145.8</td>\n",
       "      <td>152.9</td>\n",
       "      <td>13.9</td>\n",
       "    </tr>\n",
       "    <tr>\n",
       "      <th>3</th>\n",
       "      <td>1007</td>\n",
       "      <td>Bibb</td>\n",
       "      <td>AL</td>\n",
       "      <td>&lt; 30k pop</td>\n",
       "      <td>22374.0</td>\n",
       "      <td>123.0</td>\n",
       "      <td>96.0</td>\n",
       "      <td>113.0</td>\n",
       "      <td>199.0</td>\n",
       "      <td>195.0</td>\n",
       "      <td>...</td>\n",
       "      <td>132.2</td>\n",
       "      <td>124.7</td>\n",
       "      <td>113.1</td>\n",
       "      <td>101.9</td>\n",
       "      <td>69.3</td>\n",
       "      <td>74.4</td>\n",
       "      <td>65.1</td>\n",
       "      <td>69.6</td>\n",
       "      <td>91.1</td>\n",
       "      <td>14.8</td>\n",
       "    </tr>\n",
       "    <tr>\n",
       "      <th>4</th>\n",
       "      <td>1009</td>\n",
       "      <td>Blount</td>\n",
       "      <td>AL</td>\n",
       "      <td>30k - 225k pop</td>\n",
       "      <td>57755.0</td>\n",
       "      <td>65.0</td>\n",
       "      <td>108.0</td>\n",
       "      <td>203.0</td>\n",
       "      <td>121.0</td>\n",
       "      <td>313.0</td>\n",
       "      <td>...</td>\n",
       "      <td>62.8</td>\n",
       "      <td>70.8</td>\n",
       "      <td>70.9</td>\n",
       "      <td>95.8</td>\n",
       "      <td>67.5</td>\n",
       "      <td>64.8</td>\n",
       "      <td>84.7</td>\n",
       "      <td>108.3</td>\n",
       "      <td>88.4</td>\n",
       "      <td>14.8</td>\n",
       "    </tr>\n",
       "    <tr>\n",
       "      <th>7</th>\n",
       "      <td>1015</td>\n",
       "      <td>Calhoun</td>\n",
       "      <td>AL</td>\n",
       "      <td>30k - 225k pop</td>\n",
       "      <td>114324.0</td>\n",
       "      <td>458.0</td>\n",
       "      <td>526.0</td>\n",
       "      <td>734.0</td>\n",
       "      <td>755.0</td>\n",
       "      <td>894.0</td>\n",
       "      <td>...</td>\n",
       "      <td>112.1</td>\n",
       "      <td>107.4</td>\n",
       "      <td>125.7</td>\n",
       "      <td>145.7</td>\n",
       "      <td>203.1</td>\n",
       "      <td>131.8</td>\n",
       "      <td>142.4</td>\n",
       "      <td>152.8</td>\n",
       "      <td>111.9</td>\n",
       "      <td>12.3</td>\n",
       "    </tr>\n",
       "  </tbody>\n",
       "</table>\n",
       "<p>5 rows × 181 columns</p>\n",
       "</div>"
      ],
      "text/plain": [
       "   cfips   county state       groupflag  total_pop_20  orders_rank_aug19  \\\n",
       "0   1001  Autauga    AL  30k - 225k pop       55639.0              668.0   \n",
       "1   1003  Baldwin    AL  30k - 225k pop      218289.0              804.0   \n",
       "3   1007     Bibb    AL       < 30k pop       22374.0              123.0   \n",
       "4   1009   Blount    AL  30k - 225k pop       57755.0               65.0   \n",
       "7   1015  Calhoun    AL  30k - 225k pop      114324.0              458.0   \n",
       "\n",
       "   orders_rank_sep19  orders_rank_oct19  orders_rank_nov19  orders_rank_dec19  \\\n",
       "0              511.0              723.0              624.0             1023.0   \n",
       "1              780.0              831.0              899.0              705.0   \n",
       "3               96.0              113.0              199.0              195.0   \n",
       "4              108.0              203.0              121.0              313.0   \n",
       "7              526.0              734.0              755.0              894.0   \n",
       "\n",
       "   ...  avg_traffic_oct21  avg_traffic_nov21  avg_traffic_dec21  \\\n",
       "0  ...              419.1              455.9              480.9   \n",
       "1  ...              124.2              113.1              108.1   \n",
       "3  ...              132.2              124.7              113.1   \n",
       "4  ...               62.8               70.8               70.9   \n",
       "7  ...              112.1              107.4              125.7   \n",
       "\n",
       "   avg_traffic_jan22  avg_traffic_feb22  avg_traffic_mar22  avg_traffic_apr22  \\\n",
       "0              663.0              629.7              647.6              435.2   \n",
       "1              126.7              125.9              135.4              134.5   \n",
       "3              101.9               69.3               74.4               65.1   \n",
       "4               95.8               67.5               64.8               84.7   \n",
       "7              145.7              203.1              131.8              142.4   \n",
       "\n",
       "   avg_traffic_may22  avg_traffic_jun22  avg_lifespan_mths  \n",
       "0              415.0              398.9               12.4  \n",
       "1              145.8              152.9               13.9  \n",
       "3               69.6               91.1               14.8  \n",
       "4              108.3               88.4               14.8  \n",
       "7              152.8              111.9               12.3  \n",
       "\n",
       "[5 rows x 181 columns]"
      ]
     },
     "execution_count": 27,
     "metadata": {},
     "output_type": "execute_result"
    }
   ],
   "source": [
    "vf_data.head()"
   ]
  },
  {
   "cell_type": "code",
   "execution_count": 28,
   "id": "71fc0c8e-b505-45a3-b859-036a9b63cb31",
   "metadata": {},
   "outputs": [],
   "source": [
    "vf_data_ts = vf_data.melt(id_vars=['cfips','county','state','groupflag'])\n",
    "vf_data_ts = vf_data_ts[~vf_data_ts.variable.isin(['total_pop_20', 'avg_lifespan_mths'])]"
   ]
  },
  {
   "cell_type": "code",
   "execution_count": 29,
   "id": "d0ab91fa-2af4-4edd-a3dd-114ea190aa4e",
   "metadata": {},
   "outputs": [],
   "source": [
    "vf_data_ts['year'] = [2000+int(x[-2:]) for x in vf_data_ts['variable']]\n",
    "vf_data_ts['year'] = vf_data_ts['year'].astype(int)\n",
    "vf_data_ts['variable'] = [x[:(len(x)-2)] for x in vf_data_ts['variable']]\n",
    "vf_data_ts['month'] = [x[-3:] for x in vf_data_ts['variable']]\n",
    "vf_data_ts['variable'] = [x[:(len(x)-4)] for x in vf_data_ts['variable']]"
   ]
  },
  {
   "cell_type": "code",
   "execution_count": 30,
   "id": "74a6cdbf-93b5-4642-943e-c34202d1d6eb",
   "metadata": {},
   "outputs": [],
   "source": [
    "def date_converter(x):\n",
    "    return dt.datetime.strptime(x['month']+' '+str(x['year']), '%b %Y').date()"
   ]
  },
  {
   "cell_type": "code",
   "execution_count": 31,
   "id": "1b5e6639-0d30-42ec-ad26-4344a9a87d0d",
   "metadata": {},
   "outputs": [],
   "source": [
    "vf_data_ts['first_day_of_month'] = vf_data_ts.apply(date_converter, axis=1)"
   ]
  },
  {
   "cell_type": "code",
   "execution_count": 32,
   "id": "0b25d71e-6792-4f33-9cbb-4020b7d7c59d",
   "metadata": {},
   "outputs": [
    {
     "data": {
      "text/html": [
       "<div>\n",
       "<style scoped>\n",
       "    .dataframe tbody tr th:only-of-type {\n",
       "        vertical-align: middle;\n",
       "    }\n",
       "\n",
       "    .dataframe tbody tr th {\n",
       "        vertical-align: top;\n",
       "    }\n",
       "\n",
       "    .dataframe thead th {\n",
       "        text-align: right;\n",
       "    }\n",
       "</style>\n",
       "<table border=\"1\" class=\"dataframe\">\n",
       "  <thead>\n",
       "    <tr style=\"text-align: right;\">\n",
       "      <th></th>\n",
       "      <th>cfips</th>\n",
       "      <th>county</th>\n",
       "      <th>state</th>\n",
       "      <th>groupflag</th>\n",
       "      <th>variable</th>\n",
       "      <th>value</th>\n",
       "      <th>year</th>\n",
       "      <th>month</th>\n",
       "      <th>first_day_of_month</th>\n",
       "    </tr>\n",
       "  </thead>\n",
       "  <tbody>\n",
       "    <tr>\n",
       "      <th>1857</th>\n",
       "      <td>1001</td>\n",
       "      <td>Autauga</td>\n",
       "      <td>AL</td>\n",
       "      <td>30k - 225k pop</td>\n",
       "      <td>orders_rank</td>\n",
       "      <td>668.0</td>\n",
       "      <td>2019</td>\n",
       "      <td>aug</td>\n",
       "      <td>2019-08-01</td>\n",
       "    </tr>\n",
       "    <tr>\n",
       "      <th>1858</th>\n",
       "      <td>1003</td>\n",
       "      <td>Baldwin</td>\n",
       "      <td>AL</td>\n",
       "      <td>30k - 225k pop</td>\n",
       "      <td>orders_rank</td>\n",
       "      <td>804.0</td>\n",
       "      <td>2019</td>\n",
       "      <td>aug</td>\n",
       "      <td>2019-08-01</td>\n",
       "    </tr>\n",
       "    <tr>\n",
       "      <th>1859</th>\n",
       "      <td>1007</td>\n",
       "      <td>Bibb</td>\n",
       "      <td>AL</td>\n",
       "      <td>&lt; 30k pop</td>\n",
       "      <td>orders_rank</td>\n",
       "      <td>123.0</td>\n",
       "      <td>2019</td>\n",
       "      <td>aug</td>\n",
       "      <td>2019-08-01</td>\n",
       "    </tr>\n",
       "  </tbody>\n",
       "</table>\n",
       "</div>"
      ],
      "text/plain": [
       "      cfips   county state       groupflag     variable  value  year month  \\\n",
       "1857   1001  Autauga    AL  30k - 225k pop  orders_rank  668.0  2019   aug   \n",
       "1858   1003  Baldwin    AL  30k - 225k pop  orders_rank  804.0  2019   aug   \n",
       "1859   1007     Bibb    AL       < 30k pop  orders_rank  123.0  2019   aug   \n",
       "\n",
       "     first_day_of_month  \n",
       "1857         2019-08-01  \n",
       "1858         2019-08-01  \n",
       "1859         2019-08-01  "
      ]
     },
     "execution_count": 32,
     "metadata": {},
     "output_type": "execute_result"
    }
   ],
   "source": [
    "vf_data_ts.head(3)"
   ]
  },
  {
   "cell_type": "code",
   "execution_count": 33,
   "id": "50b95360-acd0-4a02-bd8c-f19dbc2e1eaf",
   "metadata": {},
   "outputs": [],
   "source": [
    "vf_data_ts = vf_data_ts.drop(['year','month'], axis=1)"
   ]
  },
  {
   "cell_type": "code",
   "execution_count": 34,
   "id": "96fa896e-388a-4c3e-b14b-a2d698c7229c",
   "metadata": {},
   "outputs": [
    {
     "data": {
      "text/html": [
       "<div>\n",
       "<style scoped>\n",
       "    .dataframe tbody tr th:only-of-type {\n",
       "        vertical-align: middle;\n",
       "    }\n",
       "\n",
       "    .dataframe tbody tr th {\n",
       "        vertical-align: top;\n",
       "    }\n",
       "\n",
       "    .dataframe thead th {\n",
       "        text-align: right;\n",
       "    }\n",
       "</style>\n",
       "<table border=\"1\" class=\"dataframe\">\n",
       "  <thead>\n",
       "    <tr style=\"text-align: right;\">\n",
       "      <th>variable</th>\n",
       "      <th>cfips</th>\n",
       "      <th>county</th>\n",
       "      <th>state</th>\n",
       "      <th>groupflag</th>\n",
       "      <th>first_day_of_month</th>\n",
       "      <th>avg_traffic</th>\n",
       "      <th>gmv_rank</th>\n",
       "      <th>merchants_rank</th>\n",
       "      <th>orders_rank</th>\n",
       "      <th>top3industries</th>\n",
       "    </tr>\n",
       "  </thead>\n",
       "  <tbody>\n",
       "    <tr>\n",
       "      <th>0</th>\n",
       "      <td>1001</td>\n",
       "      <td>Autauga</td>\n",
       "      <td>AL</td>\n",
       "      <td>30k - 225k pop</td>\n",
       "      <td>2019-08-01</td>\n",
       "      <td>51.7</td>\n",
       "      <td>693.0</td>\n",
       "      <td>342.0</td>\n",
       "      <td>668.0</td>\n",
       "      <td>fashion, beauty, homesvcs</td>\n",
       "    </tr>\n",
       "    <tr>\n",
       "      <th>1</th>\n",
       "      <td>1001</td>\n",
       "      <td>Autauga</td>\n",
       "      <td>AL</td>\n",
       "      <td>30k - 225k pop</td>\n",
       "      <td>2019-09-01</td>\n",
       "      <td>49.4</td>\n",
       "      <td>396.0</td>\n",
       "      <td>550.0</td>\n",
       "      <td>511.0</td>\n",
       "      <td>beauty, homesvcs</td>\n",
       "    </tr>\n",
       "    <tr>\n",
       "      <th>2</th>\n",
       "      <td>1001</td>\n",
       "      <td>Autauga</td>\n",
       "      <td>AL</td>\n",
       "      <td>30k - 225k pop</td>\n",
       "      <td>2019-10-01</td>\n",
       "      <td>54.8</td>\n",
       "      <td>825.0</td>\n",
       "      <td>699.0</td>\n",
       "      <td>723.0</td>\n",
       "      <td>beauty, fashion</td>\n",
       "    </tr>\n",
       "    <tr>\n",
       "      <th>3</th>\n",
       "      <td>1001</td>\n",
       "      <td>Autauga</td>\n",
       "      <td>AL</td>\n",
       "      <td>30k - 225k pop</td>\n",
       "      <td>2019-11-01</td>\n",
       "      <td>47.1</td>\n",
       "      <td>571.0</td>\n",
       "      <td>491.0</td>\n",
       "      <td>624.0</td>\n",
       "      <td>beauty, fashion, homesvcs</td>\n",
       "    </tr>\n",
       "    <tr>\n",
       "      <th>4</th>\n",
       "      <td>1001</td>\n",
       "      <td>Autauga</td>\n",
       "      <td>AL</td>\n",
       "      <td>30k - 225k pop</td>\n",
       "      <td>2019-12-01</td>\n",
       "      <td>52.7</td>\n",
       "      <td>1026.0</td>\n",
       "      <td>777.0</td>\n",
       "      <td>1023.0</td>\n",
       "      <td>beauty, homesvcs</td>\n",
       "    </tr>\n",
       "  </tbody>\n",
       "</table>\n",
       "</div>"
      ],
      "text/plain": [
       "variable  cfips   county state       groupflag first_day_of_month avg_traffic  \\\n",
       "0          1001  Autauga    AL  30k - 225k pop         2019-08-01        51.7   \n",
       "1          1001  Autauga    AL  30k - 225k pop         2019-09-01        49.4   \n",
       "2          1001  Autauga    AL  30k - 225k pop         2019-10-01        54.8   \n",
       "3          1001  Autauga    AL  30k - 225k pop         2019-11-01        47.1   \n",
       "4          1001  Autauga    AL  30k - 225k pop         2019-12-01        52.7   \n",
       "\n",
       "variable gmv_rank merchants_rank orders_rank             top3industries  \n",
       "0           693.0          342.0       668.0  fashion, beauty, homesvcs  \n",
       "1           396.0          550.0       511.0           beauty, homesvcs  \n",
       "2           825.0          699.0       723.0            beauty, fashion  \n",
       "3           571.0          491.0       624.0  beauty, fashion, homesvcs  \n",
       "4          1026.0          777.0      1023.0           beauty, homesvcs  "
      ]
     },
     "execution_count": 34,
     "metadata": {},
     "output_type": "execute_result"
    }
   ],
   "source": [
    "#vf_data = \n",
    "vf_data_ts = vf_data_ts.pivot_table(index=['cfips','county','state','groupflag','first_day_of_month'], columns=['variable'], values='value', aggfunc='sum').reset_index()\n",
    "vf_data_ts.head()"
   ]
  },
  {
   "cell_type": "code",
   "execution_count": 35,
   "id": "2efad1a5-49f7-48aa-8ad7-731423abb6b9",
   "metadata": {},
   "outputs": [
    {
     "data": {
      "text/plain": [
       "datetime.date(2022, 6, 1)"
      ]
     },
     "execution_count": 35,
     "metadata": {},
     "output_type": "execute_result"
    }
   ],
   "source": [
    "vf_data_ts.first_day_of_month.max()"
   ]
  },
  {
   "cell_type": "code",
   "execution_count": 36,
   "id": "ad50b9eb-acf3-4a90-9de2-0ebc941dfa76",
   "metadata": {},
   "outputs": [],
   "source": [
    "vf_data_ts = vf_data_ts.drop(['county','state','groupflag','top3industries'], axis=1) "
   ]
  },
  {
   "cell_type": "code",
   "execution_count": 37,
   "id": "a7eeab52-dfbb-40da-be4e-c08f569c421f",
   "metadata": {},
   "outputs": [
    {
     "data": {
      "text/plain": [
       "variable\n",
       "cfips                 0\n",
       "first_day_of_month    0\n",
       "avg_traffic           0\n",
       "gmv_rank              0\n",
       "merchants_rank        0\n",
       "orders_rank           0\n",
       "dtype: int64"
      ]
     },
     "execution_count": 37,
     "metadata": {},
     "output_type": "execute_result"
    }
   ],
   "source": [
    "vf_data_ts.isna().sum()"
   ]
  },
  {
   "cell_type": "markdown",
   "id": "a7796054-02f3-4143-bd62-fef9c959364e",
   "metadata": {},
   "source": [
    "#### Merging\n",
    "Note: since we only have data until June 2022, we merge only for the train data, and apply 12-month lagged values later"
   ]
  },
  {
   "cell_type": "code",
   "execution_count": 38,
   "id": "71bafe71-d2b2-42a7-90e6-43ed37b6c732",
   "metadata": {},
   "outputs": [],
   "source": [
    "train_df.first_day_of_month = pd.DatetimeIndex(train_df.first_day_of_month)"
   ]
  },
  {
   "cell_type": "code",
   "execution_count": 39,
   "id": "e127dc7b-9a11-47d9-b79c-76eb9337822e",
   "metadata": {},
   "outputs": [],
   "source": [
    "def dt_to_date(x): return x['first_day_of_month'].date()\n",
    "train_df.first_day_of_month = train_df.apply(dt_to_date, axis=1)"
   ]
  },
  {
   "cell_type": "code",
   "execution_count": 40,
   "id": "33b18949-6db5-43ea-b57c-8491e7eaeb35",
   "metadata": {},
   "outputs": [],
   "source": [
    "test_df.first_day_of_month = test_df.apply(dt_to_date, axis=1)"
   ]
  },
  {
   "cell_type": "code",
   "execution_count": 41,
   "id": "23f1b74b-1e6e-4eaa-8ac8-07c7376260f3",
   "metadata": {},
   "outputs": [],
   "source": [
    "train_df = pd.merge(train_df, vf_data_ts, how='left', left_on=['cfips','first_day_of_month'], right_on=['cfips','first_day_of_month'])"
   ]
  },
  {
   "cell_type": "markdown",
   "id": "dbca2552-af83-4b48-b925-bf426db708cb",
   "metadata": {},
   "source": [
    "----------------------\n",
    "We handle missing values by imputing the median, by date:"
   ]
  },
  {
   "cell_type": "code",
   "execution_count": 42,
   "id": "412fd8d1-9441-478a-b3b1-1690fc514273",
   "metadata": {},
   "outputs": [
    {
     "data": {
      "text/html": [
       "<div>\n",
       "<style scoped>\n",
       "    .dataframe tbody tr th:only-of-type {\n",
       "        vertical-align: middle;\n",
       "    }\n",
       "\n",
       "    .dataframe tbody tr th {\n",
       "        vertical-align: top;\n",
       "    }\n",
       "\n",
       "    .dataframe thead th {\n",
       "        text-align: right;\n",
       "    }\n",
       "</style>\n",
       "<table border=\"1\" class=\"dataframe\">\n",
       "  <thead>\n",
       "    <tr style=\"text-align: right;\">\n",
       "      <th></th>\n",
       "      <th>first_day_of_month</th>\n",
       "      <th>row_id</th>\n",
       "      <th>cfips</th>\n",
       "      <th>county</th>\n",
       "      <th>state</th>\n",
       "      <th>microbusiness_density</th>\n",
       "      <th>active</th>\n",
       "      <th>year</th>\n",
       "      <th>median_hh_inc</th>\n",
       "      <th>pct_bb</th>\n",
       "      <th>pct_college</th>\n",
       "      <th>pct_foreign_born</th>\n",
       "      <th>pct_it_workers</th>\n",
       "      <th>avg_traffic</th>\n",
       "      <th>gmv_rank</th>\n",
       "      <th>merchants_rank</th>\n",
       "      <th>orders_rank</th>\n",
       "    </tr>\n",
       "  </thead>\n",
       "  <tbody>\n",
       "    <tr>\n",
       "      <th>31</th>\n",
       "      <td>2022-03-01</td>\n",
       "      <td>0</td>\n",
       "      <td>0</td>\n",
       "      <td>0</td>\n",
       "      <td>0</td>\n",
       "      <td>0</td>\n",
       "      <td>0</td>\n",
       "      <td>0</td>\n",
       "      <td>0</td>\n",
       "      <td>0</td>\n",
       "      <td>0</td>\n",
       "      <td>0</td>\n",
       "      <td>0</td>\n",
       "      <td>1279</td>\n",
       "      <td>1279</td>\n",
       "      <td>1279</td>\n",
       "      <td>1279</td>\n",
       "    </tr>\n",
       "    <tr>\n",
       "      <th>32</th>\n",
       "      <td>2022-04-01</td>\n",
       "      <td>0</td>\n",
       "      <td>0</td>\n",
       "      <td>0</td>\n",
       "      <td>0</td>\n",
       "      <td>0</td>\n",
       "      <td>0</td>\n",
       "      <td>0</td>\n",
       "      <td>0</td>\n",
       "      <td>0</td>\n",
       "      <td>0</td>\n",
       "      <td>0</td>\n",
       "      <td>0</td>\n",
       "      <td>1279</td>\n",
       "      <td>1279</td>\n",
       "      <td>1279</td>\n",
       "      <td>1279</td>\n",
       "    </tr>\n",
       "    <tr>\n",
       "      <th>33</th>\n",
       "      <td>2022-05-01</td>\n",
       "      <td>0</td>\n",
       "      <td>0</td>\n",
       "      <td>0</td>\n",
       "      <td>0</td>\n",
       "      <td>0</td>\n",
       "      <td>0</td>\n",
       "      <td>0</td>\n",
       "      <td>0</td>\n",
       "      <td>0</td>\n",
       "      <td>0</td>\n",
       "      <td>0</td>\n",
       "      <td>0</td>\n",
       "      <td>1279</td>\n",
       "      <td>1279</td>\n",
       "      <td>1279</td>\n",
       "      <td>1279</td>\n",
       "    </tr>\n",
       "    <tr>\n",
       "      <th>34</th>\n",
       "      <td>2022-06-01</td>\n",
       "      <td>0</td>\n",
       "      <td>0</td>\n",
       "      <td>0</td>\n",
       "      <td>0</td>\n",
       "      <td>0</td>\n",
       "      <td>0</td>\n",
       "      <td>0</td>\n",
       "      <td>0</td>\n",
       "      <td>0</td>\n",
       "      <td>0</td>\n",
       "      <td>0</td>\n",
       "      <td>0</td>\n",
       "      <td>1279</td>\n",
       "      <td>1279</td>\n",
       "      <td>1279</td>\n",
       "      <td>1279</td>\n",
       "    </tr>\n",
       "    <tr>\n",
       "      <th>35</th>\n",
       "      <td>2022-07-01</td>\n",
       "      <td>0</td>\n",
       "      <td>0</td>\n",
       "      <td>0</td>\n",
       "      <td>0</td>\n",
       "      <td>0</td>\n",
       "      <td>0</td>\n",
       "      <td>0</td>\n",
       "      <td>0</td>\n",
       "      <td>0</td>\n",
       "      <td>0</td>\n",
       "      <td>0</td>\n",
       "      <td>0</td>\n",
       "      <td>3135</td>\n",
       "      <td>3135</td>\n",
       "      <td>3135</td>\n",
       "      <td>3135</td>\n",
       "    </tr>\n",
       "    <tr>\n",
       "      <th>36</th>\n",
       "      <td>2022-08-01</td>\n",
       "      <td>0</td>\n",
       "      <td>0</td>\n",
       "      <td>0</td>\n",
       "      <td>0</td>\n",
       "      <td>0</td>\n",
       "      <td>0</td>\n",
       "      <td>0</td>\n",
       "      <td>0</td>\n",
       "      <td>0</td>\n",
       "      <td>0</td>\n",
       "      <td>0</td>\n",
       "      <td>0</td>\n",
       "      <td>3135</td>\n",
       "      <td>3135</td>\n",
       "      <td>3135</td>\n",
       "      <td>3135</td>\n",
       "    </tr>\n",
       "    <tr>\n",
       "      <th>37</th>\n",
       "      <td>2022-09-01</td>\n",
       "      <td>0</td>\n",
       "      <td>0</td>\n",
       "      <td>0</td>\n",
       "      <td>0</td>\n",
       "      <td>0</td>\n",
       "      <td>0</td>\n",
       "      <td>0</td>\n",
       "      <td>0</td>\n",
       "      <td>0</td>\n",
       "      <td>0</td>\n",
       "      <td>0</td>\n",
       "      <td>0</td>\n",
       "      <td>3135</td>\n",
       "      <td>3135</td>\n",
       "      <td>3135</td>\n",
       "      <td>3135</td>\n",
       "    </tr>\n",
       "    <tr>\n",
       "      <th>38</th>\n",
       "      <td>2022-10-01</td>\n",
       "      <td>0</td>\n",
       "      <td>0</td>\n",
       "      <td>0</td>\n",
       "      <td>0</td>\n",
       "      <td>0</td>\n",
       "      <td>0</td>\n",
       "      <td>0</td>\n",
       "      <td>0</td>\n",
       "      <td>0</td>\n",
       "      <td>0</td>\n",
       "      <td>0</td>\n",
       "      <td>0</td>\n",
       "      <td>3135</td>\n",
       "      <td>3135</td>\n",
       "      <td>3135</td>\n",
       "      <td>3135</td>\n",
       "    </tr>\n",
       "    <tr>\n",
       "      <th>39</th>\n",
       "      <td>2022-11-01</td>\n",
       "      <td>0</td>\n",
       "      <td>0</td>\n",
       "      <td>0</td>\n",
       "      <td>0</td>\n",
       "      <td>0</td>\n",
       "      <td>0</td>\n",
       "      <td>0</td>\n",
       "      <td>0</td>\n",
       "      <td>0</td>\n",
       "      <td>0</td>\n",
       "      <td>0</td>\n",
       "      <td>0</td>\n",
       "      <td>3135</td>\n",
       "      <td>3135</td>\n",
       "      <td>3135</td>\n",
       "      <td>3135</td>\n",
       "    </tr>\n",
       "    <tr>\n",
       "      <th>40</th>\n",
       "      <td>2022-12-01</td>\n",
       "      <td>0</td>\n",
       "      <td>0</td>\n",
       "      <td>0</td>\n",
       "      <td>0</td>\n",
       "      <td>0</td>\n",
       "      <td>0</td>\n",
       "      <td>0</td>\n",
       "      <td>0</td>\n",
       "      <td>0</td>\n",
       "      <td>0</td>\n",
       "      <td>0</td>\n",
       "      <td>0</td>\n",
       "      <td>3135</td>\n",
       "      <td>3135</td>\n",
       "      <td>3135</td>\n",
       "      <td>3135</td>\n",
       "    </tr>\n",
       "  </tbody>\n",
       "</table>\n",
       "</div>"
      ],
      "text/plain": [
       "   first_day_of_month  row_id  cfips  county  state  microbusiness_density  \\\n",
       "31         2022-03-01       0      0       0      0                      0   \n",
       "32         2022-04-01       0      0       0      0                      0   \n",
       "33         2022-05-01       0      0       0      0                      0   \n",
       "34         2022-06-01       0      0       0      0                      0   \n",
       "35         2022-07-01       0      0       0      0                      0   \n",
       "36         2022-08-01       0      0       0      0                      0   \n",
       "37         2022-09-01       0      0       0      0                      0   \n",
       "38         2022-10-01       0      0       0      0                      0   \n",
       "39         2022-11-01       0      0       0      0                      0   \n",
       "40         2022-12-01       0      0       0      0                      0   \n",
       "\n",
       "    active  year  median_hh_inc  pct_bb  pct_college  pct_foreign_born  \\\n",
       "31       0     0              0       0            0                 0   \n",
       "32       0     0              0       0            0                 0   \n",
       "33       0     0              0       0            0                 0   \n",
       "34       0     0              0       0            0                 0   \n",
       "35       0     0              0       0            0                 0   \n",
       "36       0     0              0       0            0                 0   \n",
       "37       0     0              0       0            0                 0   \n",
       "38       0     0              0       0            0                 0   \n",
       "39       0     0              0       0            0                 0   \n",
       "40       0     0              0       0            0                 0   \n",
       "\n",
       "    pct_it_workers  avg_traffic  gmv_rank  merchants_rank  orders_rank  \n",
       "31               0         1279      1279            1279         1279  \n",
       "32               0         1279      1279            1279         1279  \n",
       "33               0         1279      1279            1279         1279  \n",
       "34               0         1279      1279            1279         1279  \n",
       "35               0         3135      3135            3135         3135  \n",
       "36               0         3135      3135            3135         3135  \n",
       "37               0         3135      3135            3135         3135  \n",
       "38               0         3135      3135            3135         3135  \n",
       "39               0         3135      3135            3135         3135  \n",
       "40               0         3135      3135            3135         3135  "
      ]
     },
     "execution_count": 42,
     "metadata": {},
     "output_type": "execute_result"
    }
   ],
   "source": [
    "train_df.drop('first_day_of_month', axis=1).isna().groupby(train_df.first_day_of_month).sum().reset_index().tail(10)"
   ]
  },
  {
   "cell_type": "code",
   "execution_count": 43,
   "id": "3b6cf8c3-171e-4a36-a292-094143d9ab2c",
   "metadata": {},
   "outputs": [
    {
     "data": {
      "text/plain": [
       "Index(['avg_traffic', 'gmv_rank', 'merchants_rank', 'orders_rank'], dtype='object', name='variable')"
      ]
     },
     "execution_count": 43,
     "metadata": {},
     "output_type": "execute_result"
    }
   ],
   "source": [
    "vf_data_ts.columns[2:]"
   ]
  },
  {
   "cell_type": "code",
   "execution_count": 44,
   "id": "d73f7ab2-e737-452b-96d4-85e2615be20b",
   "metadata": {},
   "outputs": [],
   "source": [
    "list_cols_with_na = train_df.isna().sum(0)[train_df.isna().sum(0)>0].index"
   ]
  },
  {
   "cell_type": "code",
   "execution_count": 45,
   "id": "8373449b-7cec-4253-aaf7-798218cd28d4",
   "metadata": {
    "tags": []
   },
   "outputs": [],
   "source": [
    "col_group = ['first_day_of_month','state']\n",
    "list_cols_with_na = train_df.isna().sum(0)[train_df.isna().sum(0)>0].index\n",
    "warnings.simplefilter(\"ignore\")\n",
    "try:\n",
    "    for colname in list_cols_with_na:\n",
    "        train_df[colname] = train_df.groupby(col_group, sort=False)[colname].transform(lambda x: x.median())\n",
    "finally:\n",
    "    warnings.simplefilter(\"default\")"
   ]
  },
  {
   "cell_type": "code",
   "execution_count": 46,
   "id": "fe1cb38b-02f8-4b2d-ab79-c3fe7b2077be",
   "metadata": {},
   "outputs": [
    {
     "data": {
      "text/html": [
       "<div>\n",
       "<style scoped>\n",
       "    .dataframe tbody tr th:only-of-type {\n",
       "        vertical-align: middle;\n",
       "    }\n",
       "\n",
       "    .dataframe tbody tr th {\n",
       "        vertical-align: top;\n",
       "    }\n",
       "\n",
       "    .dataframe thead th {\n",
       "        text-align: right;\n",
       "    }\n",
       "</style>\n",
       "<table border=\"1\" class=\"dataframe\">\n",
       "  <thead>\n",
       "    <tr style=\"text-align: right;\">\n",
       "      <th></th>\n",
       "      <th>first_day_of_month</th>\n",
       "      <th>row_id</th>\n",
       "      <th>cfips</th>\n",
       "      <th>county</th>\n",
       "      <th>state</th>\n",
       "      <th>microbusiness_density</th>\n",
       "      <th>active</th>\n",
       "      <th>year</th>\n",
       "      <th>median_hh_inc</th>\n",
       "      <th>pct_bb</th>\n",
       "      <th>pct_college</th>\n",
       "      <th>pct_foreign_born</th>\n",
       "      <th>pct_it_workers</th>\n",
       "      <th>avg_traffic</th>\n",
       "      <th>gmv_rank</th>\n",
       "      <th>merchants_rank</th>\n",
       "      <th>orders_rank</th>\n",
       "    </tr>\n",
       "  </thead>\n",
       "  <tbody>\n",
       "    <tr>\n",
       "      <th>31</th>\n",
       "      <td>2022-03-01</td>\n",
       "      <td>0</td>\n",
       "      <td>0</td>\n",
       "      <td>0</td>\n",
       "      <td>0</td>\n",
       "      <td>0</td>\n",
       "      <td>0</td>\n",
       "      <td>0</td>\n",
       "      <td>0</td>\n",
       "      <td>0</td>\n",
       "      <td>0</td>\n",
       "      <td>0</td>\n",
       "      <td>0</td>\n",
       "      <td>0</td>\n",
       "      <td>0</td>\n",
       "      <td>0</td>\n",
       "      <td>0</td>\n",
       "    </tr>\n",
       "    <tr>\n",
       "      <th>32</th>\n",
       "      <td>2022-04-01</td>\n",
       "      <td>0</td>\n",
       "      <td>0</td>\n",
       "      <td>0</td>\n",
       "      <td>0</td>\n",
       "      <td>0</td>\n",
       "      <td>0</td>\n",
       "      <td>0</td>\n",
       "      <td>0</td>\n",
       "      <td>0</td>\n",
       "      <td>0</td>\n",
       "      <td>0</td>\n",
       "      <td>0</td>\n",
       "      <td>0</td>\n",
       "      <td>0</td>\n",
       "      <td>0</td>\n",
       "      <td>0</td>\n",
       "    </tr>\n",
       "    <tr>\n",
       "      <th>33</th>\n",
       "      <td>2022-05-01</td>\n",
       "      <td>0</td>\n",
       "      <td>0</td>\n",
       "      <td>0</td>\n",
       "      <td>0</td>\n",
       "      <td>0</td>\n",
       "      <td>0</td>\n",
       "      <td>0</td>\n",
       "      <td>0</td>\n",
       "      <td>0</td>\n",
       "      <td>0</td>\n",
       "      <td>0</td>\n",
       "      <td>0</td>\n",
       "      <td>0</td>\n",
       "      <td>0</td>\n",
       "      <td>0</td>\n",
       "      <td>0</td>\n",
       "    </tr>\n",
       "    <tr>\n",
       "      <th>34</th>\n",
       "      <td>2022-06-01</td>\n",
       "      <td>0</td>\n",
       "      <td>0</td>\n",
       "      <td>0</td>\n",
       "      <td>0</td>\n",
       "      <td>0</td>\n",
       "      <td>0</td>\n",
       "      <td>0</td>\n",
       "      <td>0</td>\n",
       "      <td>0</td>\n",
       "      <td>0</td>\n",
       "      <td>0</td>\n",
       "      <td>0</td>\n",
       "      <td>0</td>\n",
       "      <td>0</td>\n",
       "      <td>0</td>\n",
       "      <td>0</td>\n",
       "    </tr>\n",
       "    <tr>\n",
       "      <th>35</th>\n",
       "      <td>2022-07-01</td>\n",
       "      <td>0</td>\n",
       "      <td>0</td>\n",
       "      <td>0</td>\n",
       "      <td>0</td>\n",
       "      <td>0</td>\n",
       "      <td>0</td>\n",
       "      <td>0</td>\n",
       "      <td>0</td>\n",
       "      <td>0</td>\n",
       "      <td>0</td>\n",
       "      <td>0</td>\n",
       "      <td>0</td>\n",
       "      <td>3135</td>\n",
       "      <td>3135</td>\n",
       "      <td>3135</td>\n",
       "      <td>3135</td>\n",
       "    </tr>\n",
       "    <tr>\n",
       "      <th>36</th>\n",
       "      <td>2022-08-01</td>\n",
       "      <td>0</td>\n",
       "      <td>0</td>\n",
       "      <td>0</td>\n",
       "      <td>0</td>\n",
       "      <td>0</td>\n",
       "      <td>0</td>\n",
       "      <td>0</td>\n",
       "      <td>0</td>\n",
       "      <td>0</td>\n",
       "      <td>0</td>\n",
       "      <td>0</td>\n",
       "      <td>0</td>\n",
       "      <td>3135</td>\n",
       "      <td>3135</td>\n",
       "      <td>3135</td>\n",
       "      <td>3135</td>\n",
       "    </tr>\n",
       "    <tr>\n",
       "      <th>37</th>\n",
       "      <td>2022-09-01</td>\n",
       "      <td>0</td>\n",
       "      <td>0</td>\n",
       "      <td>0</td>\n",
       "      <td>0</td>\n",
       "      <td>0</td>\n",
       "      <td>0</td>\n",
       "      <td>0</td>\n",
       "      <td>0</td>\n",
       "      <td>0</td>\n",
       "      <td>0</td>\n",
       "      <td>0</td>\n",
       "      <td>0</td>\n",
       "      <td>3135</td>\n",
       "      <td>3135</td>\n",
       "      <td>3135</td>\n",
       "      <td>3135</td>\n",
       "    </tr>\n",
       "    <tr>\n",
       "      <th>38</th>\n",
       "      <td>2022-10-01</td>\n",
       "      <td>0</td>\n",
       "      <td>0</td>\n",
       "      <td>0</td>\n",
       "      <td>0</td>\n",
       "      <td>0</td>\n",
       "      <td>0</td>\n",
       "      <td>0</td>\n",
       "      <td>0</td>\n",
       "      <td>0</td>\n",
       "      <td>0</td>\n",
       "      <td>0</td>\n",
       "      <td>0</td>\n",
       "      <td>3135</td>\n",
       "      <td>3135</td>\n",
       "      <td>3135</td>\n",
       "      <td>3135</td>\n",
       "    </tr>\n",
       "    <tr>\n",
       "      <th>39</th>\n",
       "      <td>2022-11-01</td>\n",
       "      <td>0</td>\n",
       "      <td>0</td>\n",
       "      <td>0</td>\n",
       "      <td>0</td>\n",
       "      <td>0</td>\n",
       "      <td>0</td>\n",
       "      <td>0</td>\n",
       "      <td>0</td>\n",
       "      <td>0</td>\n",
       "      <td>0</td>\n",
       "      <td>0</td>\n",
       "      <td>0</td>\n",
       "      <td>3135</td>\n",
       "      <td>3135</td>\n",
       "      <td>3135</td>\n",
       "      <td>3135</td>\n",
       "    </tr>\n",
       "    <tr>\n",
       "      <th>40</th>\n",
       "      <td>2022-12-01</td>\n",
       "      <td>0</td>\n",
       "      <td>0</td>\n",
       "      <td>0</td>\n",
       "      <td>0</td>\n",
       "      <td>0</td>\n",
       "      <td>0</td>\n",
       "      <td>0</td>\n",
       "      <td>0</td>\n",
       "      <td>0</td>\n",
       "      <td>0</td>\n",
       "      <td>0</td>\n",
       "      <td>0</td>\n",
       "      <td>3135</td>\n",
       "      <td>3135</td>\n",
       "      <td>3135</td>\n",
       "      <td>3135</td>\n",
       "    </tr>\n",
       "  </tbody>\n",
       "</table>\n",
       "</div>"
      ],
      "text/plain": [
       "   first_day_of_month  row_id  cfips  county  state  microbusiness_density  \\\n",
       "31         2022-03-01       0      0       0      0                      0   \n",
       "32         2022-04-01       0      0       0      0                      0   \n",
       "33         2022-05-01       0      0       0      0                      0   \n",
       "34         2022-06-01       0      0       0      0                      0   \n",
       "35         2022-07-01       0      0       0      0                      0   \n",
       "36         2022-08-01       0      0       0      0                      0   \n",
       "37         2022-09-01       0      0       0      0                      0   \n",
       "38         2022-10-01       0      0       0      0                      0   \n",
       "39         2022-11-01       0      0       0      0                      0   \n",
       "40         2022-12-01       0      0       0      0                      0   \n",
       "\n",
       "    active  year  median_hh_inc  pct_bb  pct_college  pct_foreign_born  \\\n",
       "31       0     0              0       0            0                 0   \n",
       "32       0     0              0       0            0                 0   \n",
       "33       0     0              0       0            0                 0   \n",
       "34       0     0              0       0            0                 0   \n",
       "35       0     0              0       0            0                 0   \n",
       "36       0     0              0       0            0                 0   \n",
       "37       0     0              0       0            0                 0   \n",
       "38       0     0              0       0            0                 0   \n",
       "39       0     0              0       0            0                 0   \n",
       "40       0     0              0       0            0                 0   \n",
       "\n",
       "    pct_it_workers  avg_traffic  gmv_rank  merchants_rank  orders_rank  \n",
       "31               0            0         0               0            0  \n",
       "32               0            0         0               0            0  \n",
       "33               0            0         0               0            0  \n",
       "34               0            0         0               0            0  \n",
       "35               0         3135      3135            3135         3135  \n",
       "36               0         3135      3135            3135         3135  \n",
       "37               0         3135      3135            3135         3135  \n",
       "38               0         3135      3135            3135         3135  \n",
       "39               0         3135      3135            3135         3135  \n",
       "40               0         3135      3135            3135         3135  "
      ]
     },
     "execution_count": 46,
     "metadata": {},
     "output_type": "execute_result"
    }
   ],
   "source": [
    "train_df.drop('first_day_of_month', axis=1).isna().groupby(train_df.first_day_of_month).sum().reset_index().tail(10)"
   ]
  },
  {
   "cell_type": "markdown",
   "id": "fd26fae4-8ef9-40c1-aac4-63dc29d1e23c",
   "metadata": {},
   "source": [
    "## Preprocessing data / feature engineering"
   ]
  },
  {
   "cell_type": "markdown",
   "id": "f4af6920-b99b-48f1-aaea-d1f0d86ecbf7",
   "metadata": {},
   "source": [
    "### Nearest 5 spatial neighbors\n",
    "\n",
    "We attempt to account for spatial correlation by including 5 nearest counties' MBD for each county\n",
    "\n",
    "Source of coordinates data: https://public.opendatasoft.com/explore/dataset/us-county-boundaries/export/?disjunctive.statefp&disjunctive.countyfp&disjunctive.name&disjunctive.namelsad&disjunctive.stusab&disjunctive.state_name"
   ]
  },
  {
   "cell_type": "code",
   "execution_count": 47,
   "id": "15d081d4-602a-47a6-994b-ca7d1fad7677",
   "metadata": {},
   "outputs": [],
   "source": [
    "# download zip and unzip it, only if it does not exist\n",
    "\n",
    "if not os.path.isfile(\"data/us-county-boundaries.zip\"):\n",
    "    urllib.request.urlretrieve(\n",
    "        \"https://public.opendatasoft.com/api/explore/v2.1/catalog/datasets/us-county-boundaries/exports/shp?lang=en&timezone=Europe%2FBerlin\",\n",
    "        \"data/us-county-boundaries.zip\")\n",
    "    with zipfile.ZipFile(\"data/us-county-boundaries.zip\", 'r') as zip_ref:\n",
    "        zip_ref.extractall('data')"
   ]
  },
  {
   "cell_type": "code",
   "execution_count": 48,
   "id": "ed240005-3693-4f40-a131-b6cd0cb3bbfe",
   "metadata": {
    "tags": []
   },
   "outputs": [],
   "source": [
    "us_shape = gpd.read_file(\"data/us-county-boundaries.shp\")\n",
    "\n",
    "us_shape['fips'] = us_shape['statefp'] + us_shape['countyfp']\n",
    "us_shape['fips'] = us_shape['fips'].astype(int)\n",
    "us_shape['intptlat'] = us_shape['intptlat'].astype(float)\n",
    "us_shape['intptlon'] = us_shape['intptlon'].astype(float)\n",
    "\n",
    "# merging with spatial data\n",
    "train_df = pd.merge(train_df, us_shape[['countyfp','fips','intptlat','intptlon','geometry']],\n",
    "                    left_on='cfips', right_on='fips', how='left')\n",
    "test_df = pd.merge(test_df, us_shape[['countyfp','fips','intptlat','intptlon','geometry']],\n",
    "                   left_on='cfips', right_on='fips', how='left')\n",
    "\n",
    "train_df = train_df.rename(columns={'intptlon':'lon', 'intptlat':'lat'})\n",
    "test_df = test_df.rename(columns={'intptlon':'lon', 'intptlat':'lat'})"
   ]
  },
  {
   "cell_type": "code",
   "execution_count": 49,
   "id": "ba5b71f9-ecee-47eb-a5fb-4e24784d32cc",
   "metadata": {},
   "outputs": [],
   "source": [
    "# for obtaining nearest neighbors, we only need to use one moment of time - we choose\n",
    "# the first date available, but it can be any\n",
    "train_first_date = train_df[train_df.first_day_of_month==min(train_df.first_day_of_month)]"
   ]
  },
  {
   "cell_type": "code",
   "execution_count": 50,
   "id": "63327313-5daf-4e15-aa55-f4dd9b884d33",
   "metadata": {},
   "outputs": [],
   "source": [
    "# function for finding nearest N county, by coordinates\n",
    "def find_nearest(row, n):\n",
    "    k=10\n",
    "    distances = train_first_date.apply(\n",
    "        dist_row, lat=row['lat'], long=row['lon'], \n",
    "        axis=1)\n",
    "    return train_first_date.loc[distances.nsmallest(k+1).index[k-n], 'cfips']\n",
    "\n",
    "\n",
    "@jit(nopython=True) # wrapper for C compiler (does not support pandas, only numpy\n",
    "def dist(lat1, long1, lat2, long2):\n",
    "    \"\"\"\n",
    "    Calculate the great circle distance between two points \n",
    "    on the earth (specified in decimal degrees)\n",
    "    \"\"\"\n",
    "    # convert decimal degrees to radians \n",
    "    lat1, long1, lat2, long2 = map(radians, [lat1, long1, lat2, long2])\n",
    "    # haversine formula \n",
    "    dlon = long2 - long1 \n",
    "    dlat = lat2 - lat1 \n",
    "    a = sin(dlat/2)**2 + cos(lat1) * cos(lat2) * sin(dlon/2)**2\n",
    "    c = 2 * asin(sqrt(a)) \n",
    "    # Radius of earth in kilometers is 6371\n",
    "    km = 6371* c\n",
    "    return km\n",
    "\n",
    "# function for vectorizing across a pandas dataframe\n",
    "def dist_row(row, lat, long):\n",
    "    return dist(lat, long, row['lat'], row['lon'])"
   ]
  },
  {
   "cell_type": "code",
   "execution_count": 51,
   "id": "7a4f587b-a1cf-44dd-bf43-1c3df6585990",
   "metadata": {},
   "outputs": [],
   "source": [
    "train_first_date = train_df[train_df.first_day_of_month==min(train_df.first_day_of_month)]"
   ]
  },
  {
   "cell_type": "code",
   "execution_count": 52,
   "id": "f4b9509f-c1df-453d-be0b-f63fbb1d704d",
   "metadata": {
    "tags": []
   },
   "outputs": [],
   "source": [
    "if os.path.isfile(\"data/5_nearest.csv\"):\n",
    "    agg = pd.read_csv('data/5_nearest.csv')\n",
    "else:\n",
    "\n",
    "    import time\n",
    "\n",
    "    start=time.time()\n",
    "\n",
    "    cols, names = list(), list()\n",
    "    max_max_neighbors=5\n",
    "    for i in range(1,max_max_neighbors+1):\n",
    "        nearest_cfips = pd.DataFrame(train_first_date.parallel_apply(find_nearest, n=i, axis=1))\n",
    "        cols.append(nearest_cfips)\n",
    "        names += [f'mbd_nearest_{i}']\n",
    "\n",
    "    agg = pd.concat(cols, axis=1)\n",
    "    agg.columns = names\n",
    "\n",
    "    pandarallel.initialize()\n",
    "    \n",
    "    agg['cfips'] = train_first_date.cfips\n",
    "    end=time.time()\n",
    "    print(' '.join(['Time to compute: ',str(start-end),'seconds']))"
   ]
  },
  {
   "cell_type": "code",
   "execution_count": 53,
   "id": "dacd5293-a7b0-4d6f-b659-c7eb850e7de6",
   "metadata": {},
   "outputs": [
    {
     "data": {
      "text/html": [
       "<div>\n",
       "<style scoped>\n",
       "    .dataframe tbody tr th:only-of-type {\n",
       "        vertical-align: middle;\n",
       "    }\n",
       "\n",
       "    .dataframe tbody tr th {\n",
       "        vertical-align: top;\n",
       "    }\n",
       "\n",
       "    .dataframe thead th {\n",
       "        text-align: right;\n",
       "    }\n",
       "</style>\n",
       "<table border=\"1\" class=\"dataframe\">\n",
       "  <thead>\n",
       "    <tr style=\"text-align: right;\">\n",
       "      <th></th>\n",
       "      <th>mbd_nearest_1</th>\n",
       "      <th>mbd_nearest_2</th>\n",
       "      <th>mbd_nearest_3</th>\n",
       "      <th>mbd_nearest_4</th>\n",
       "      <th>mbd_nearest_5</th>\n",
       "      <th>cfips</th>\n",
       "    </tr>\n",
       "  </thead>\n",
       "  <tbody>\n",
       "    <tr>\n",
       "      <th>0</th>\n",
       "      <td>1117</td>\n",
       "      <td>1007</td>\n",
       "      <td>1105</td>\n",
       "      <td>1037</td>\n",
       "      <td>1101</td>\n",
       "      <td>1001</td>\n",
       "    </tr>\n",
       "    <tr>\n",
       "      <th>1</th>\n",
       "      <td>1099</td>\n",
       "      <td>28041</td>\n",
       "      <td>1129</td>\n",
       "      <td>28039</td>\n",
       "      <td>28059</td>\n",
       "      <td>1003</td>\n",
       "    </tr>\n",
       "    <tr>\n",
       "      <th>2</th>\n",
       "      <td>13243</td>\n",
       "      <td>13259</td>\n",
       "      <td>1045</td>\n",
       "      <td>1109</td>\n",
       "      <td>1113</td>\n",
       "      <td>1005</td>\n",
       "    </tr>\n",
       "    <tr>\n",
       "      <th>3</th>\n",
       "      <td>1063</td>\n",
       "      <td>1047</td>\n",
       "      <td>1001</td>\n",
       "      <td>1073</td>\n",
       "      <td>1065</td>\n",
       "      <td>1007</td>\n",
       "    </tr>\n",
       "    <tr>\n",
       "      <th>4</th>\n",
       "      <td>1133</td>\n",
       "      <td>1015</td>\n",
       "      <td>1127</td>\n",
       "      <td>1103</td>\n",
       "      <td>1073</td>\n",
       "      <td>1009</td>\n",
       "    </tr>\n",
       "  </tbody>\n",
       "</table>\n",
       "</div>"
      ],
      "text/plain": [
       "   mbd_nearest_1  mbd_nearest_2  mbd_nearest_3  mbd_nearest_4  mbd_nearest_5  \\\n",
       "0           1117           1007           1105           1037           1101   \n",
       "1           1099          28041           1129          28039          28059   \n",
       "2          13243          13259           1045           1109           1113   \n",
       "3           1063           1047           1001           1073           1065   \n",
       "4           1133           1015           1127           1103           1073   \n",
       "\n",
       "   cfips  \n",
       "0   1001  \n",
       "1   1003  \n",
       "2   1005  \n",
       "3   1007  \n",
       "4   1009  "
      ]
     },
     "execution_count": 53,
     "metadata": {},
     "output_type": "execute_result"
    }
   ],
   "source": [
    "agg.head()"
   ]
  },
  {
   "cell_type": "code",
   "execution_count": 54,
   "id": "b160ba83-2ced-4d16-ab5a-0191907056ee",
   "metadata": {},
   "outputs": [],
   "source": [
    "train_df = pd.merge(train_df, agg, on='cfips')"
   ]
  },
  {
   "cell_type": "code",
   "execution_count": 55,
   "id": "bcda688d-ba9b-43ea-8655-5e801430d14c",
   "metadata": {
    "tags": []
   },
   "outputs": [
    {
     "name": "stdout",
     "output_type": "stream",
     "text": [
      "Date of iteration: 2022-12-01\r"
     ]
    }
   ],
   "source": [
    "try:\n",
    "    pd.options.mode.chained_assignment = None\n",
    "    for date in train_df.first_day_of_month.unique():\n",
    "        print('Date of iteration: '+ str(date), end = \"\\r\")\n",
    "        for i in range(1,6):\n",
    "            _mbd_array = train_df[train_df.first_day_of_month==date].sort_values(by=[f'mbd_nearest_{i}'], key=lambda x: x.map(agg[f'mbd_nearest_{i}'].to_dict()))\n",
    "            _mbd_array = _mbd_array['microbusiness_density']\n",
    "            _mbd_array = _mbd_array.reindex(train_df[train_df.first_day_of_month==date].index)\n",
    "            train_df[f'mbd_nearest_{i}'][_mbd_array.index] = _mbd_array\n",
    "finally:\n",
    "    pd.options.mode.chained_assignment = 'warn'"
   ]
  },
  {
   "cell_type": "code",
   "execution_count": 56,
   "id": "ff494179-594e-40a8-b0ea-93db8e75fccd",
   "metadata": {},
   "outputs": [
    {
     "data": {
      "text/plain": [
       "row_id                       0\n",
       "cfips                        0\n",
       "county                       0\n",
       "state                        0\n",
       "first_day_of_month           0\n",
       "microbusiness_density        0\n",
       "active                       0\n",
       "year                         0\n",
       "median_hh_inc                0\n",
       "pct_bb                       0\n",
       "pct_college                  0\n",
       "pct_foreign_born             0\n",
       "pct_it_workers               0\n",
       "avg_traffic              18810\n",
       "gmv_rank                 18810\n",
       "merchants_rank           18810\n",
       "orders_rank              18810\n",
       "countyfp                     0\n",
       "fips                         0\n",
       "lat                          0\n",
       "lon                          0\n",
       "geometry                  2050\n",
       "mbd_nearest_1                0\n",
       "mbd_nearest_2                0\n",
       "mbd_nearest_3                0\n",
       "mbd_nearest_4                0\n",
       "mbd_nearest_5                0\n",
       "dtype: int64"
      ]
     },
     "execution_count": 56,
     "metadata": {},
     "output_type": "execute_result"
    }
   ],
   "source": [
    "train_df.isna().sum()"
   ]
  },
  {
   "cell_type": "markdown",
   "id": "8c47b74c-8cef-4f75-a13f-0ca7d1821b82",
   "metadata": {},
   "source": [
    "**Note:** Missing values for MBD survey data are explained due to lack of availability from Q3 2022 onwards; we solve that via lagging these survey values"
   ]
  },
  {
   "cell_type": "code",
   "execution_count": 57,
   "id": "643d9bce-3b55-4de3-b7fb-3a8e3b282efc",
   "metadata": {},
   "outputs": [],
   "source": [
    "train_df = train_df.drop('geometry', axis=1)\n",
    "test_df = test_df.drop('geometry', axis=1)"
   ]
  },
  {
   "cell_type": "markdown",
   "id": "44478789-b0c9-471e-9414-996541aae53e",
   "metadata": {},
   "source": [
    "### Lagged values and feature engineering\n",
    "\n",
    "For selecting lag order of variables and of rolling mean, we check for autocorrelation, partial autocorrelation, and cross-correlation\n",
    "\n",
    "Since Python does not have the same support as R for longitudinal data (grouped time series), we limit ourselves to using random samples of ACF, PACF and CCF"
   ]
  },
  {
   "cell_type": "code",
   "execution_count": 58,
   "id": "616f6ac0-486f-4a4b-82b0-b6007d1ccd17",
   "metadata": {},
   "outputs": [
    {
     "ename": "NameError",
     "evalue": "name 'train_df_backup' is not defined",
     "output_type": "error",
     "traceback": [
      "\u001b[0;31m---------------------------------------------------------------------------\u001b[0m",
      "\u001b[0;31mNameError\u001b[0m                                 Traceback (most recent call last)",
      "\u001b[0;32m/tmp/ipykernel_10446/2063255356.py\u001b[0m in \u001b[0;36m<module>\u001b[0;34m\u001b[0m\n\u001b[0;32m----> 1\u001b[0;31m \u001b[0mtrain_df\u001b[0m \u001b[0;34m=\u001b[0m \u001b[0mtrain_df_backup\u001b[0m\u001b[0;34m.\u001b[0m\u001b[0mcopy\u001b[0m\u001b[0;34m(\u001b[0m\u001b[0;34m)\u001b[0m\u001b[0;34m\u001b[0m\u001b[0;34m\u001b[0m\u001b[0m\n\u001b[0m\u001b[1;32m      2\u001b[0m \u001b[0mtest_df\u001b[0m \u001b[0;34m=\u001b[0m \u001b[0mtest_df_backup\u001b[0m\u001b[0;34m.\u001b[0m\u001b[0mcopy\u001b[0m\u001b[0;34m(\u001b[0m\u001b[0;34m)\u001b[0m\u001b[0;34m\u001b[0m\u001b[0;34m\u001b[0m\u001b[0m\n",
      "\u001b[0;31mNameError\u001b[0m: name 'train_df_backup' is not defined"
     ]
    }
   ],
   "source": [
    "train_df = train_df_backup.copy()\n",
    "test_df = test_df_backup.copy()"
   ]
  },
  {
   "cell_type": "code",
   "execution_count": null,
   "id": "aa88e991-13f7-4c0d-b31f-7b078eb9c64b",
   "metadata": {},
   "outputs": [],
   "source": [
    "fig, ax = plt.subplots()\n",
    "\n",
    "sns.boxplot(data = train_df, x='state',y=('microbusiness_density'))\n",
    "\n",
    "fig.set_size_inches(15,5)\n",
    "for item in ax.get_xticklabels():\n",
    "    item.set_rotation(90)"
   ]
  },
  {
   "cell_type": "markdown",
   "id": "25df7243-7731-4e2f-9987-728b910d0429",
   "metadata": {},
   "source": [
    "------------------\n",
    "We check how many lags to use by checking ACF and partial ACF plots:"
   ]
  },
  {
   "cell_type": "code",
   "execution_count": null,
   "id": "9b146508-4ce0-4b69-9f5a-b5b51d8a1810",
   "metadata": {},
   "outputs": [],
   "source": [
    "import random\n",
    "sample_cfips = random.sample(train_df.cfips.unique().tolist(), 3)\n",
    "\n",
    "for cfips in sample_cfips:\n",
    "    sns.set()\n",
    "    fig, ax = plt.subplots()\n",
    "    plot_acf(train_df[train_df.cfips==cfips]['microbusiness_density'], ax=ax, lags=18)\n",
    "    fig.set_size_inches(8,2)\n",
    "    for item in ax.get_xticklabels():\n",
    "        item.set_rotation(90)"
   ]
  },
  {
   "cell_type": "code",
   "execution_count": null,
   "id": "3c97f95f-145c-4563-96a8-a9fc6bff67e4",
   "metadata": {},
   "outputs": [],
   "source": [
    "import random\n",
    "sample_cfips = random.sample(train_df.cfips.unique().tolist(), 3)\n",
    "\n",
    "for cfips in sample_cfips:\n",
    "    sns.set()\n",
    "    fig, ax = plt.subplots()\n",
    "    plot_pacf(train_df[train_df.cfips==cfips]['microbusiness_density'], ax=ax, lags=15)\n",
    "    fig.set_size_inches(8,2)\n",
    "    for item in ax.get_xticklabels():\n",
    "        item.set_rotation(90)"
   ]
  },
  {
   "cell_type": "code",
   "execution_count": null,
   "id": "9aca7659-03b7-4c50-9797-7dcd49191510",
   "metadata": {},
   "outputs": [],
   "source": [
    "from scipy import signal\n",
    "import random\n",
    "sample_cfips = random.sample(train_df.cfips.unique().tolist(), 5)\n",
    "\n",
    "def ccf_values(series1, series2):\n",
    "    p = series1\n",
    "    q = series2\n",
    "    p = (p - np.mean(p)) / (np.std(p) * len(p))\n",
    "    q = (q - np.mean(q)) / (np.std(q))  \n",
    "    c = np.correlate(p, q, 'full')\n",
    "    return c\n",
    "\n",
    "def ccf_plot(lags, ccf, title):\n",
    "    fig, ax =plt.subplots(figsize=(12, 2))\n",
    "    ax.plot(lags, ccf)\n",
    "    ax.axhline(-2/np.sqrt(23), color='red', label='5% confidence interval')\n",
    "    ax.axhline(2/np.sqrt(23), color='red')\n",
    "    ax.axvline(x = 0, color = 'black', lw = 1)\n",
    "    ax.axhline(y = 0, color = 'black', lw = 1)\n",
    "    ax.axhline(y = np.max(ccf), color = 'blue', lw = 1, \n",
    "    linestyle='--', label = 'highest +/- correlation')\n",
    "    ax.axhline(y = np.min(ccf), color = 'blue', lw = 1, \n",
    "    linestyle='--')\n",
    "    ax.set(ylim = [-1, 1])\n",
    "    ax.set_title(title, weight='bold', fontsize = 15)\n",
    "    ax.set_ylabel('Correlation Coefficients', weight='bold', fontsize = 12)\n",
    "    ax.set_xlabel('Time Lags', weight='bold', fontsize = 12)\n",
    "    plt.legend()\n",
    "\n",
    "\n",
    "#ccf_vals = ccf_values(train_df[train_df.cfips==1001]['log_mbd'], train_df[train_df.cfips==1001]['active'])\n",
    "#lags = signal.correlation_lags(len(train_df[train_df.cfips==1001]['log_mbd']), len(train_df[train_df.cfips==1001]['active']))\n",
    "\n",
    "#ccf_plot(lags, ccf_vals)"
   ]
  },
  {
   "cell_type": "code",
   "execution_count": null,
   "id": "30c82f0d-16a4-4846-8a14-9e7808c2abd3",
   "metadata": {},
   "outputs": [],
   "source": [
    "import random\n",
    "sample_cfips = random.sample(train_df.cfips.unique().tolist(), 3)\n",
    "\n",
    "for cfips in sample_cfips:\n",
    "    ccf_vals = ccf_values(train_df[train_df.cfips==cfips]['microbusiness_density'], train_df[train_df.cfips==cfips]['mbd_nearest_1'])\n",
    "    lags = signal.correlation_lags(len(train_df[train_df.cfips==cfips]['microbusiness_density']), len(train_df[train_df.cfips==cfips]['mbd_nearest_1']))\n",
    "    sns.set()\n",
    "    #fig, ax = plt.subplots()\n",
    "    ccf_plot(lags, ccf_vals, title='Cross Correation microbusiness_density and nearest neighbor')\n",
    "    fig.set_size_inches(8,2)\n",
    "    for item in ax.get_xticklabels():\n",
    "        item.set_rotation(90) "
   ]
  },
  {
   "cell_type": "markdown",
   "id": "488df2b1-f20b-4bf2-90c0-7ac3dab1677c",
   "metadata": {},
   "source": [
    "-------------------------------------------\n",
    "Considering that the autocorrelation is significant until lag 3, and that the parcial AC is significant until lag 1, the idea for feature engineering is:\n",
    "- Rolling window of previous three months for key variables\n",
    "- Up to 3-month lagged variables for the rest, except for...\n",
    "- ...entrepreneur survey data, where we can only use it up to lag 12 considering the availability of data\n",
    "\n",
    "-------------------------------------------"
   ]
  },
  {
   "cell_type": "markdown",
   "id": "bd3fc39a-9cc7-4984-9c42-2fe20e029c58",
   "metadata": {},
   "source": [
    "#### Adding lagged values\n",
    "\n",
    "For months with infinite growth (divided by zero), a small bias is introduced:\n",
    "\n",
    "$\\large{\\texttt{gwt_m}_{t}=\\frac{\\texttt{gwt_m}_{t}+c}{\\texttt{gwt_m}_{t-1}+c}\\small \\text{, where }c=10^{-6}}$"
   ]
  },
  {
   "cell_type": "code",
   "execution_count": null,
   "id": "113f8859-5866-4ae5-9f9b-aab24dbabc08",
   "metadata": {},
   "outputs": [],
   "source": [
    "train_df = train_df_backup.copy()\n",
    "test_df = test_df_backup.copy()"
   ]
  },
  {
   "cell_type": "code",
   "execution_count": null,
   "id": "9941efea-1695-4d71-90ec-d93f494d71dd",
   "metadata": {},
   "outputs": [],
   "source": [
    "train_df['gwt_m'] = pfunc.gwt_f(train_df, 'microbusiness_density', time_gwt=1, lag=0)\n",
    "train_df['gwt_q'] = pfunc.gwt_f(train_df, 'microbusiness_density', time_gwt=3, lag=0)\n",
    "if np.max(lag_list)>=9:\n",
    "    train_df['active(t-12)']=pfunc.shift_time(train_df, 12)['active']\n",
    "for i in range(1,max_neighbors+1):\n",
    "    train_df[f'gwt_m_nearest_{i}']=pfunc.gwt_f(train_df, f'mbd_nearest_{i}', time_gwt=1, lag=0)\n",
    "    train_df[f'gwt_q_nearest_{i}']=pfunc.gwt_f(train_df, f'mbd_nearest_{i}', time_gwt=3, lag=0)\n",
    "for lag in lag_list:\n",
    "    train_df[f'mbd(t-{lag})'] = pfunc.shift_time(train_df, lag)['microbusiness_density']\n",
    "    train_df[f'active(t-{lag})'] = pfunc.shift_time(train_df, lag)['active']\n",
    "    train_df[f'gwt_m(t-{lag})'] = pfunc.gwt_f(train_df, 'microbusiness_density', time_gwt=1, lag=lag)\n",
    "    train_df[f'gwt_q(t-{lag})'] = pfunc.gwt_f(train_df, 'microbusiness_density', time_gwt=3, lag=lag)\n",
    "    for i in range(1,max_neighbors+1):\n",
    "        train_df[f'mbd(t-{lag})_nearest_{i}']=pfunc.shift_time(train_df, lag)[f'mbd_nearest_{i}']\n",
    "        train_df[f'gwt_m(t-{lag})_nearest_{i}']=pfunc.gwt_f(train_df, f'mbd_nearest_{i}', time_gwt=1, lag=lag)\n",
    "        train_df[f'gwt_q(t-{lag})_nearest_{i}']=pfunc.gwt_f(train_df, f'mbd_nearest_{i}', time_gwt=3, lag=lag)"
   ]
  },
  {
   "cell_type": "code",
   "execution_count": null,
   "id": "fe22ac6b-b86a-4ec7-bf05-15dc59f2f996",
   "metadata": {},
   "outputs": [],
   "source": [
    "vf_columns = ['avg_traffic', 'gmv_rank', 'merchants_rank', 'orders_rank']\n",
    "for column in vf_columns:\n",
    "    train_df['{}(t-12)'.format(column)]=pfunc.shift_time(train_df, 6)[column]"
   ]
  },
  {
   "cell_type": "markdown",
   "id": "d938216d-5182-46b0-9de6-b4cc6fa12a5c",
   "metadata": {},
   "source": [
    "#### Adding rolling mean (of last month over 3 periods)"
   ]
  },
  {
   "cell_type": "raw",
   "id": "36ea7d3c-e0d1-429a-b015-6d2fea4fbfda",
   "metadata": {},
   "source": [
    "train_df.groupby('cfips').apply(\n",
    "    lambda x: x['microbusiness_density'].shift(1).rolling(3).mean()).reset_index().set_index('level_1').drop('cfips',axis=1)"
   ]
  },
  {
   "cell_type": "raw",
   "id": "61d2a081-5c38-46c1-8a87-d84456956dec",
   "metadata": {},
   "source": [
    "# function for rolling mean\n",
    "def add_rolling_mean(data, column_rolled, lag, n_rolling_mean=n_rolling_mean):\n",
    "    data = shift_time(data, lag)\n",
    "    def rolling_f(x): return x[column_rolled].shift(1).rolling(n_rolling_mean).mean()\n",
    "    rolling_mean = data.groupby('cfips', observed=True).apply(rolling_f).reset_index().set_index(\n",
    "        'level_1').sort_index()[column_rolled]\n",
    "    return rolling_mean"
   ]
  },
  {
   "cell_type": "code",
   "execution_count": null,
   "id": "aed5319d-132a-4cf5-88fa-b9d70c2252ab",
   "metadata": {},
   "outputs": [],
   "source": [
    "for lag in lag_rolling_list:\n",
    "    train_df['mbd_rolling_mean(t-{})'.format(lag)] = pfunc.add_rolling_mean(train_df, 'microbusiness_density', lag)\n",
    "    train_df['gwt_m_rolling_mean(t-{})'.format(lag)] = pfunc.add_rolling_mean(train_df, 'gwt_m', lag)\n",
    "    train_df['active_rolling_mean(t-{})'.format(lag)] = pfunc.add_rolling_mean(train_df, 'active', lag)"
   ]
  },
  {
   "cell_type": "markdown",
   "id": "9b191589-37c1-4cf5-a03c-82441e6744e7",
   "metadata": {},
   "source": [
    "#### Drop rows with missing values\n",
    "\n",
    "This is done after introducing lagged variables\n",
    "\n",
    "We do not need to drop missing values of survey data; we will drop these columns later"
   ]
  },
  {
   "cell_type": "code",
   "execution_count": null,
   "id": "b2234646-f974-48c7-90c2-7aac60ce4667",
   "metadata": {},
   "outputs": [],
   "source": [
    "# drop groups with missing values\n",
    "column_for_dropping = 'gwt_q(t-{})'.format(np.max(lag_list))\n",
    "train_df = train_df.loc[train_df.groupby('first_day_of_month')[column_for_dropping].filter(\n",
    "    lambda x: len(x[pd.isnull(x)] ) < 1).index]\n",
    "\n",
    "\n",
    "column_for_dropping = 'gwt_m_rolling_mean(t-{})'.format(np.max(lag_rolling_list))\n",
    "train_df = train_df.loc[train_df.groupby('first_day_of_month')[column_for_dropping].filter(\n",
    "    lambda x: len(x[pd.isnull(x)] ) < 1).index]"
   ]
  },
  {
   "cell_type": "code",
   "execution_count": null,
   "id": "e50bda5c-6fd3-4288-9062-cd9a3618f364",
   "metadata": {},
   "outputs": [],
   "source": [
    "train_df.isna().sum()[train_df.isna().sum()>0]"
   ]
  },
  {
   "cell_type": "code",
   "execution_count": null,
   "id": "dcbfc535-49be-4f9b-8dd1-43216b2649ef",
   "metadata": {},
   "outputs": [],
   "source": [
    "train_df.shape"
   ]
  },
  {
   "cell_type": "code",
   "execution_count": null,
   "id": "e35add58-caf2-438c-b953-0f57542c7040",
   "metadata": {},
   "outputs": [],
   "source": [
    "print(' '.join(['Number of months in train dataset:',str(len(train_df.first_day_of_month.unique()))]))\n",
    "print(' '.join(['Number of months in test dataset:',str(len(test_df.first_day_of_month.unique()))]))"
   ]
  },
  {
   "cell_type": "markdown",
   "id": "17edaa30-4d50-4eca-8313-0e287f08256d",
   "metadata": {},
   "source": [
    "### Copying df for data scaling later"
   ]
  },
  {
   "cell_type": "code",
   "execution_count": null,
   "id": "08808cac-a50a-40d6-ae45-2f973737826d",
   "metadata": {},
   "outputs": [],
   "source": [
    "train_scaled = train_df.copy()\n",
    "test_scaled = test_df.copy()"
   ]
  },
  {
   "cell_type": "code",
   "execution_count": null,
   "id": "2a749d1a-03f3-4b63-8d54-e05cf4e55930",
   "metadata": {},
   "outputs": [],
   "source": [
    "# sort values by date and cfips\n",
    "train_scaled = train_scaled.sort_values(['first_day_of_month','cfips'])\n",
    "test_scaled = test_scaled.sort_values(['first_day_of_month','cfips'])"
   ]
  },
  {
   "cell_type": "code",
   "execution_count": null,
   "id": "22444642-9964-46c5-a4ba-f678d230970b",
   "metadata": {},
   "outputs": [],
   "source": [
    "# this is for experimenting whether dummy variables for states improve predictions\n",
    "# (spoiler: they did not for the models selected)\n",
    "if states_dummy:\n",
    "    train_scaled = pd.get_dummies(train_scaled, columns=['state'])\n",
    "    test_scaled = pd.get_dummies(test_scaled, columns=['state'])"
   ]
  },
  {
   "cell_type": "code",
   "execution_count": null,
   "id": "3605a77d-6429-4617-b036-6a3038d62bbe",
   "metadata": {},
   "outputs": [],
   "source": [
    "train_scaled.shape"
   ]
  },
  {
   "cell_type": "markdown",
   "id": "cd21beee-b0b2-408d-80f7-c4756d3f238e",
   "metadata": {},
   "source": [
    "### Fourier seasonality\n",
    "\n",
    "This is not used in practice, but is tested to check whether considering any cyclic patterns improve cross validation scores"
   ]
  },
  {
   "cell_type": "code",
   "execution_count": null,
   "id": "eef7a1a5-3c4e-4483-a319-1a1ed734660a",
   "metadata": {},
   "outputs": [],
   "source": [
    "if fourier_set:\n",
    "    train_scaled = pfunc.fourier_seasonality(train_scaled)\n",
    "    test_scaled = pfunc.fourier_seasonality(test_scaled)"
   ]
  },
  {
   "cell_type": "markdown",
   "id": "37181369-5939-4763-91c4-0dc31cdd4c9f",
   "metadata": {},
   "source": [
    "### Handling outliers: winsorizing by median absolute deviation\n",
    "\n",
    "This step permits removing extremely negative and extremely positive (almost infinite) growth"
   ]
  },
  {
   "cell_type": "code",
   "execution_count": null,
   "id": "c209f88e-3c0b-4600-8188-1d2fd4da8722",
   "metadata": {},
   "outputs": [],
   "source": [
    "median_mbd_plot = train_scaled.groupby(\"cfips\")['gwt_m'].median()\n",
    "fig, ax = plt.subplots()\n",
    "sns.histplot(data = median_mbd_plot)\n",
    "ax.set_title('Histogram of median monthly MB growth', fontsize=20)\n",
    "fig.set_size_inches(15,3)"
   ]
  },
  {
   "cell_type": "code",
   "execution_count": null,
   "id": "1d5307cd-5c37-40a8-aaf3-d3161237b5dd",
   "metadata": {},
   "outputs": [],
   "source": [
    "mean_mbd_plot = train_scaled.groupby(\"cfips\")['gwt_m'].min()\n",
    "fig, ax = plt.subplots()\n",
    "sns.histplot(data = mean_mbd_plot)\n",
    "ax.set_title('Histogram of minimum monthly MB growth', fontsize=20)\n",
    "fig.set_size_inches(15,3)"
   ]
  },
  {
   "cell_type": "code",
   "execution_count": null,
   "id": "dc9bacfb-ac92-43a5-b86e-87705d468a79",
   "metadata": {},
   "outputs": [],
   "source": [
    "fig, ax = plt.subplots()\n",
    "\n",
    "sns.boxplot(data = train_scaled, x='first_day_of_month', y='gwt_m')\n",
    "ax.set_title('Box plot of monthly MB growth', fontsize=20)\n",
    "\n",
    "fig.set_size_inches(15,3)"
   ]
  },
  {
   "cell_type": "markdown",
   "id": "88ea2a6f-4779-483d-a983-60318a6e18a7",
   "metadata": {},
   "source": [
    "----------------------\n",
    "\n",
    "We observe a very high kurtosis in the distribution --> not a normal distribution, but more of a t-student\n",
    "\n",
    "-----------------\n",
    "\n",
    "Thus, we winsorize the very extreme outliers"
   ]
  },
  {
   "cell_type": "code",
   "execution_count": null,
   "id": "1329a370-4371-4a9c-9429-7dea4160b9ce",
   "metadata": {},
   "outputs": [],
   "source": [
    "mad_cutoff = 100\n",
    "\n",
    "compare_df = pd.DataFrame({'cfips': train_scaled.cfips, 'date': train_scaled.first_day_of_month, 'gwt_m': train_scaled['gwt_m']})\n",
    "median_gwt = np.median(compare_df['gwt_m'])\n",
    "MAD = median_abs_deviation(compare_df['gwt_m'])\n",
    "compare_df['x_minus_median'] = compare_df['gwt_m'] - median_gwt\n",
    "compare_df['x-m/mad'] = compare_df['x_minus_median']/MAD\n",
    "compare_df[np.abs(compare_df['x-m/mad'])>mad_cutoff].shape"
   ]
  },
  {
   "cell_type": "code",
   "execution_count": null,
   "id": "9fa86ff0-8568-4bd0-a848-ebda7389c2a4",
   "metadata": {},
   "outputs": [],
   "source": [
    "train_scaled.gwt_m.min()"
   ]
  },
  {
   "cell_type": "code",
   "execution_count": null,
   "id": "0ca3b5c7-7da2-48ce-b967-ec1fb9637fdb",
   "metadata": {},
   "outputs": [],
   "source": [
    "train_scaled.gwt_m.max()"
   ]
  },
  {
   "cell_type": "markdown",
   "id": "6ec624ee-dcbe-47e7-b089-a1d8786426f2",
   "metadata": {},
   "source": [
    "**Upper and lower thresholds for winsorizing:**"
   ]
  },
  {
   "cell_type": "code",
   "execution_count": null,
   "id": "cd8e52df-6b58-4d8c-93b4-eb6355139268",
   "metadata": {},
   "outputs": [],
   "source": [
    "print(', '.join([str(-mad_cutoff*MAD + median_gwt),str(mad_cutoff*MAD + median_gwt)]))"
   ]
  },
  {
   "cell_type": "code",
   "execution_count": null,
   "id": "a5025e3e-64b5-4c9c-85cf-8aac6da440f2",
   "metadata": {},
   "outputs": [],
   "source": [
    "# function for winsorizing\n",
    "def replace_outlier_mad(data, variable, mad_cutoff=mad_cutoff):\n",
    "    compare_df = pd.DataFrame({'cfips': data.cfips, 'date': data.first_day_of_month, variable: data[variable]})\n",
    "    median = np.median(compare_df[variable])\n",
    "    MAD = median_abs_deviation(compare_df[variable])\n",
    "    compare_df['x_minus_median'] = compare_df[variable] - median\n",
    "    compare_df['x-m/mad'] = compare_df['x_minus_median']/MAD\n",
    "    replace_max = np.repeat(median + mad_cutoff*MAD, len(compare_df))\n",
    "    replace_min = np.repeat(median - mad_cutoff*MAD, len(compare_df))\n",
    "    compare_df[variable] = np.where(compare_df['x-m/mad']>mad_cutoff,\n",
    "                                   replace_max,\n",
    "                                   compare_df[variable])\n",
    "    compare_df[variable] = np.where(compare_df['x-m/mad']<-mad_cutoff,\n",
    "                                   replace_min,\n",
    "                                   compare_df[variable])\n",
    "    data[variable] = compare_df[variable]\n",
    "    return data\n"
   ]
  },
  {
   "cell_type": "code",
   "execution_count": null,
   "id": "4746064f-f706-45f1-b2d9-2c9e9f1e64f9",
   "metadata": {
    "tags": []
   },
   "outputs": [],
   "source": [
    "if winsorize:\n",
    "    columns_outliers = ['gwt_m', 'gwt_q']\n",
    "    columns_outliers.extend(['gwt_m_nearest_{}'.format(i) for i in range(1,max_neighbors+1)])\n",
    "    columns_outliers.extend(['gwt_m_nearest_{}'.format(i) for i in range(1,max_neighbors+1)])\n",
    "    columns_outliers.extend(['gwt_q_nearest_{}'.format(i) for i in range(1,max_neighbors+1)])\n",
    "    columns_outliers.extend(['gwt_m(t-{})'.format(i) for i in lag_list])\n",
    "    columns_outliers.extend(['gwt_q(t-{})'.format(i) for i in lag_list])\n",
    "    columns_outliers.extend(['gwt_m_rolling_mean(t-{})'.format(i) for i in lag_rolling_list])\n",
    "    columns_outliers.extend([f'gwt_m(t-{lag})_nearest_{i}' for lag, i in lag_neigh_c])\n",
    "    columns_outliers.extend([f'gwt_q(t-{lag})_nearest_{i}' for lag, i in lag_neigh_c])\n",
    "    \n",
    "    for column in columns_outliers:\n",
    "        train_scaled = replace_outlier_mad(train_scaled, column)"
   ]
  },
  {
   "cell_type": "markdown",
   "id": "30583d1a-6b6d-40d6-81c4-e6d54f9a73e5",
   "metadata": {},
   "source": [
    "## Building prediction models"
   ]
  },
  {
   "cell_type": "markdown",
   "id": "84254b44-999f-498d-9cf2-b5072d24b847",
   "metadata": {},
   "source": [
    "### Defining train_x, etcetera\n",
    "\n",
    "We remove all categorical columns, and columns that represent data for the respective period - that is, not lagged\n",
    "\n",
    "For census data, since forecasts are implemented, we do not remove the respective year data"
   ]
  },
  {
   "cell_type": "code",
   "execution_count": null,
   "id": "2a756ac7-1c50-4b53-a7eb-bef9044c26ec",
   "metadata": {},
   "outputs": [],
   "source": [
    "cols_to_drop = ['row_id', 'cfips', 'county', 'first_day_of_month', 'microbusiness_density','year',\n",
    "                'countyfp', 'fips','lat', 'lon', 'gwt_m', 'gwt_q','active']\n",
    "if not states_dummy:\n",
    "    cols_to_drop.extend(['state'])\n",
    "\n",
    "if np.max(lag_list)>=9: cols_to_drop.extend(['month_t'])\n",
    "\n",
    "# VF columns\n",
    "vf_columns = ['avg_traffic', 'gmv_rank', 'merchants_rank', 'orders_rank']\n",
    "cols_to_drop.extend(vf_columns)\n",
    "\n",
    "# neighbors\n",
    "cols_to_drop.extend([f'mbd_nearest_{i}' for i in range(1,max_neighbors+1)])\n",
    "cols_to_drop.extend([f'gwt_m_nearest_{i}' for i in range(1,max_neighbors+1)])\n",
    "cols_to_drop.extend([f'gwt_q_nearest_{i}' for i in range(1,max_neighbors+1)])\n",
    "\n",
    "# for lag in lag_list:\n",
    "#     cols_to_drop.extend([f'mbd_nearest_{i}' for i in range(1,max_neighbors+1)])\n",
    "#     cols_to_drop.extend([f'gwt_m_nearest_{i}' for i in range(1,max_neighbors+1)])\n",
    "#     cols_to_drop.extend([f'gwt_q_nearest_{i}' for i in range(1,max_neighbors+1)])"
   ]
  },
  {
   "cell_type": "code",
   "execution_count": null,
   "id": "4ff6eb12-00a9-48ad-8373-1db92154f265",
   "metadata": {},
   "outputs": [],
   "source": [
    "x_columns = train_scaled.drop(cols_to_drop, axis=1)\n",
    "for i in range(max_neighbors+1,6):\n",
    "    try:\n",
    "        x_columns = x_columns.drop(f'mbd_nearest_{i}', axis=1)\n",
    "        x_columns = x_columns.drop(f'gwt_m_nearest_{i}', axis=1)\n",
    "        x_columns = x_columns.drop(f'gwt_q_nearest_{i}', axis=1)\n",
    "    except KeyError:\n",
    "        pass\n",
    "for i in range(max_neighbors+1,6):\n",
    "    for lag in lag_list:\n",
    "        try:\n",
    "            x_columns = x_columns.drop(f'mbd(t-{lag})_nearest_{i}', axis=1)\n",
    "            x_columns = x_columns.drop(f'gwt_m(t-{lag})_nearest_{i}', axis=1)\n",
    "            x_columns = x_columns.drop(f'gwt_q(t-{lag})_nearest_{i}', axis=1)\n",
    "        except KeyError:\n",
    "            pass\n",
    "x_columns = x_columns.columns"
   ]
  },
  {
   "cell_type": "code",
   "execution_count": null,
   "id": "c43747e1-2db2-4cd4-97af-2f844a938f68",
   "metadata": {},
   "outputs": [],
   "source": [
    "x_train = train_scaled[x_columns]\n",
    "y_train = train_scaled['gwt_m']\n",
    "groups = pd.factorize(train_scaled.first_day_of_month)[0]\n",
    "# x_train.loc[:,'year_2020'] = np.where(pd.DatetimeIndex(train_scaled_filtered.first_day_of_month).year==2020,1,0)\n",
    "\n",
    "x_test = test_scaled[list(set(test_scaled.columns) & set(x_columns))]\n",
    "\n",
    "\n",
    "list_1 = list(train_scaled.columns)\n",
    "list_2 = list(test_scaled.columns)\n",
    "columns_to_add = list(set(list_1) - set(list_2))"
   ]
  },
  {
   "cell_type": "code",
   "execution_count": null,
   "id": "c17d89da-6314-4f00-a1d1-3add1a948449",
   "metadata": {},
   "outputs": [],
   "source": [
    "x_columns = x_train.columns"
   ]
  },
  {
   "cell_type": "code",
   "execution_count": null,
   "id": "b3a89a9e-ca07-4fee-bc35-84d3cf0a3a8a",
   "metadata": {},
   "outputs": [],
   "source": [
    "x_train.isna().sum().sum()"
   ]
  },
  {
   "cell_type": "code",
   "execution_count": null,
   "id": "b1fd9e3b-b86e-4f2a-b759-0b14ad5baac9",
   "metadata": {},
   "outputs": [],
   "source": [
    "x_train.shape"
   ]
  },
  {
   "cell_type": "code",
   "execution_count": null,
   "id": "15df874e-c613-461f-9ec8-f4150f6e36f4",
   "metadata": {},
   "outputs": [],
   "source": [
    "x_test.shape"
   ]
  },
  {
   "cell_type": "markdown",
   "id": "dea38eb2-1d5f-4104-b79b-4500804ce8e6",
   "metadata": {},
   "source": [
    "------------------\n",
    "\n",
    "Due to very high kurtosis, a standard scaler is deemed inappropriate (the distribution of variables is not Gaussian)\n",
    "\n",
    "Hence, we use a **quantile scaler:**"
   ]
  },
  {
   "cell_type": "code",
   "execution_count": null,
   "id": "4f9b7ed0-ad1e-4644-8395-29178110b14d",
   "metadata": {},
   "outputs": [],
   "source": [
    "# x_scaler = StandardScaler()\n",
    "x_scaler = QuantileTransformer(n_quantiles=10000)\n",
    "x_scaler.fit(x_train)\n",
    "x_train = pd.DataFrame(x_scaler.transform(x_train), columns = x_train.columns)"
   ]
  },
  {
   "cell_type": "code",
   "execution_count": null,
   "id": "7e74b3c0-e800-4dae-a891-ce0f8055a358",
   "metadata": {},
   "outputs": [],
   "source": [
    "y_scaler = QuantileTransformer(n_quantiles=10000)\n",
    "# y_scaler = StandardScaler()\n",
    "y_scaler.fit(y_train.values.reshape(-1, 1))\n",
    "y_train = pd.Series(list(itertools.chain(*y_scaler.transform(y_train.values.reshape(-1, 1)))), name=y_train.name, index=y_train.index)"
   ]
  },
  {
   "cell_type": "markdown",
   "id": "b949902e-2d0a-4c92-baa6-c920e489bb76",
   "metadata": {},
   "source": [
    "### Set CV method\n",
    "\n",
    "Since the objective of the Kaggle competition is to predict with a lead of 3, 4 and 5 months, we adjust our CV strategy\n",
    "\n",
    "We then use a walk forward CV with 2 months of gap, and 3 months as test, with a rolling window"
   ]
  },
  {
   "cell_type": "markdown",
   "id": "eceefa7c-54aa-46e4-8503-47102a708792",
   "metadata": {},
   "source": [
    "#### Time series CV\n",
    "http://rasbt.github.io/mlxtend/user_guide/evaluate/GroupTimeSeriesSplit/"
   ]
  },
  {
   "cell_type": "code",
   "execution_count": null,
   "id": "b5ff6ea1-d9b3-452d-935e-088c08417dc6",
   "metadata": {},
   "outputs": [],
   "source": [
    "tscv_args = {\"test_size\": 3, \"n_splits\": 12, 'gap_size': 2}\n",
    "groups = pd.factorize(train_scaled.first_day_of_month)[0]\n",
    "cv = GroupTimeSeriesSplit(**tscv_args)"
   ]
  },
  {
   "cell_type": "code",
   "execution_count": null,
   "id": "034f594b-787b-4e68-a863-3604bb04657e",
   "metadata": {},
   "outputs": [],
   "source": [
    "plot_splits(x_train, y_train, groups, **tscv_args)"
   ]
  },
  {
   "cell_type": "markdown",
   "id": "a5af77a8-f14c-4603-9c70-548ae75707aa",
   "metadata": {},
   "source": [
    "### Trying algorithms:\n",
    "\n",
    "We attempt computationally inexpensive algorithms - no need to go fancy here!\n",
    "\n",
    "We use Bayesian optimization for hyperparameter tuning\n",
    "\n",
    "-----------------------"
   ]
  },
  {
   "cell_type": "markdown",
   "id": "79e4cb84-abb1-460f-9f5f-47422ab411c0",
   "metadata": {},
   "source": [
    "#### Linear SVR\n",
    "\n",
    "A support vector machine relies on a few observations - the support vectors - for predictions, finding the hyperplane formed by the SV that contains the maximum number of points - subject to constraints\n",
    "\n",
    "This implementation of support vector regression allows for using linear programming instead of quadratic programming (QP)\n",
    "\n",
    "This heavilly reduces the computational cost of SVR - the kernels and distance matrices are quite computationally expensive in higher dimensionality settings when using QP\n",
    "\n",
    "We first attempt with the generic $\\texttt{scikit-learn}$ library functionalities"
   ]
  },
  {
   "cell_type": "code",
   "execution_count": null,
   "id": "018c12b0-18e4-4930-b85b-3ce928e7335f",
   "metadata": {},
   "outputs": [],
   "source": [
    "svr_regressor = LinearSVR(dual=False, loss='squared_epsilon_insensitive')\n",
    "svr_regressor.fit(x_train, y_train.values)\n",
    "model = svr_regressor\n",
    "best_cv_score = cross_val_score(svr_regressor, x_train, y_train.values, groups=groups, cv=cv,\n",
    "                                scoring='neg_mean_absolute_error').mean()\n",
    "print(best_cv_score)"
   ]
  },
  {
   "cell_type": "code",
   "execution_count": null,
   "id": "4ec325a1-89ce-4e20-9e89-e629b53ea965",
   "metadata": {
    "tags": []
   },
   "outputs": [],
   "source": [
    "# Bayesian optimization\n",
    "\n",
    "pbounds = {\n",
    "    'tol':(-6,0),\n",
    "    'C': (-6,0),\n",
    "    'epsilon': (0,10)\n",
    "}\n",
    "\n",
    "def svr_hyper_param(\n",
    "    tol,\n",
    "    C,\n",
    "    epsilon):\n",
    "\n",
    "    reg = LinearSVR(dual=False, loss='squared_epsilon_insensitive',\n",
    "                    tol=pow(10,tol),\n",
    "                    C=pow(10,C),\n",
    "                    epsilon=epsilon\n",
    "                   )\n",
    "    \n",
    "    return np.mean(cross_val_score(reg, x_train.values, y_train.values, cv=cv,\n",
    "                                   groups=groups, scoring='neg_mean_absolute_error',\n",
    "                                  n_jobs=n_jobs_skl))\n",
    "\n",
    "svr_optimizer = BayesianOptimization(\n",
    "    f=svr_hyper_param,\n",
    "    pbounds=pbounds,\n",
    "    verbose=1,\n",
    "    random_state=777,\n",
    ")\n",
    "\n",
    "svr_optimizer.maximize(init_points=15, n_iter=200)\n",
    "# -0.2365"
   ]
  },
  {
   "cell_type": "code",
   "execution_count": null,
   "id": "db03ef70-7b1a-4c19-bb28-2f504de2e970",
   "metadata": {},
   "outputs": [],
   "source": [
    "import pickle \n",
    "\n",
    "with open('data/saved_svrmax.pkl', 'wb') as f:\n",
    "    pickle.dump(svr_optimizer, f)"
   ]
  },
  {
   "cell_type": "code",
   "execution_count": null,
   "id": "0fbdae80-45b6-411e-ac2c-9e9ab1c8b006",
   "metadata": {},
   "outputs": [],
   "source": [
    "import pickle \n",
    "with open('data/saved_svrmax.pkl', 'rb') as f:\n",
    "    svr_optimizer = pickle.load(f)"
   ]
  },
  {
   "cell_type": "code",
   "execution_count": null,
   "id": "c2618983-699c-4afa-89c6-535d804e3cc3",
   "metadata": {},
   "outputs": [],
   "source": [
    "if svr_optimizer.max['target'] > best_cv_score:\n",
    "    svr_regressor = LinearSVR(dual=False, loss='squared_epsilon_insensitive')\n",
    "    svr_regressor.set_params(\n",
    "        tol=pow(10, svr_optimizer.max['params']['tol']),\n",
    "        C=pow(10, svr_optimizer.max['params']['C'])\n",
    "        )\n",
    "    svr_regressor.fit(x_train, y_train.values)\n",
    "    model = svr_regressor\n",
    "    best_cv_score = svr_optimizer.max['target']"
   ]
  },
  {
   "cell_type": "code",
   "execution_count": null,
   "id": "412defed-e7f2-432d-b3ed-f1642f421a34",
   "metadata": {},
   "outputs": [],
   "source": [
    "perm_importance_svr = permutation_importance(svr_regressor, x_train, y_train)\n",
    "\n",
    "feature_names_svr = x_train.columns\n",
    "features_svr = np.array(feature_names_svr)\n",
    "\n",
    "sorted_idx_svr = perm_importance_svr.importances_mean.argsort()"
   ]
  },
  {
   "cell_type": "code",
   "execution_count": null,
   "id": "27c361f4-c06e-4efe-96cb-57dcf25e8af5",
   "metadata": {
    "tags": []
   },
   "outputs": [],
   "source": [
    "plt.rcParams['figure.figsize'] = [12, 8]\n",
    "plt.barh(features_svr[sorted_idx_svr], perm_importance_svr.importances_mean[sorted_idx_svr])\n",
    "plt.xlabel(\"Permutation Importance\")"
   ]
  },
  {
   "cell_type": "markdown",
   "id": "85d05a3a-3892-4352-80a8-81578929e8f6",
   "metadata": {},
   "source": [
    "#### Kernel Approximation of SVM Regression\n",
    "\n",
    "Potential non-linearities not detected by a linear SVR are taken into account by using the power of kernels\n",
    "\n",
    "Since SVR does not scale well for large datasets, a workaround is performed via kernel approximation + stochastic gradient descent regression\n",
    "\n",
    "https://scikit-learn.org/stable/modules/kernel_approximation.html\n",
    "\n",
    "Kernels attempted:\n",
    "- $\\texttt{RBFSampler}$\n",
    "- $\\texttt{SkewedChi2Sampler}$\n",
    "- $\\texttt{PolynomialCountSketch}$\n",
    "- $\\texttt{Nystroem}$"
   ]
  },
  {
   "cell_type": "code",
   "execution_count": null,
   "id": "406784ad-f534-43af-80a4-43ddd9ee10da",
   "metadata": {
    "tags": []
   },
   "outputs": [],
   "source": [
    "kernel_feature = Nystroem(kernel='rbf', gamma=0.05, n_components=x_train.shape[1], random_state=777, n_jobs=n_jobs_skl)\n",
    "X_features = kernel_feature.fit_transform(x_train)\n",
    "sgdr = SGDRegressor(loss='squared_epsilon_insensitive', max_iter=100, penalty='elasticnet',\n",
    "                    tol=1, epsilon=0.4, l1_ratio=0.2)\n",
    "sgdr.fit(pd.DataFrame(pd.DataFrame(X_features, columns=x_train.columns), columns=x_train.columns), y_train)"
   ]
  },
  {
   "cell_type": "code",
   "execution_count": null,
   "id": "8512320f-c51f-43ba-af1d-f1a9438456e5",
   "metadata": {},
   "outputs": [],
   "source": [
    "cv_score_sgdr = cross_val_score(sgdr, x_train, y_train.values, cv=cv,\n",
    "                               groups=groups, scoring='neg_mean_absolute_error').mean()\n",
    "print(cv_score_sgdr)\n",
    "if cv_score_sgdr>=best_cv_score:\n",
    "    model = sgdr\n",
    "    best_cv_score = cv_score_sgdr"
   ]
  },
  {
   "cell_type": "code",
   "execution_count": null,
   "id": "11609812-515c-4ec5-b42c-455075f9f30a",
   "metadata": {
    "tags": []
   },
   "outputs": [],
   "source": [
    "# Bayesian optimization\n",
    "\n",
    "pbounds = {\n",
    "    'gamma':(-6,3),\n",
    "    # 'degree': (2,8),\n",
    "    # 'n_components':(100,1000),\n",
    "    'alpha':(-7,3),\n",
    "    'tol': (-6,3),\n",
    "    'epsilon': (0,2),\n",
    "    'l1_ratio': (0,1)\n",
    "}\n",
    "\n",
    "def sgd_hyper_param(\n",
    "    # degree,\n",
    "    gamma,\n",
    "    # n_components,\n",
    "    alpha,\n",
    "    tol,\n",
    "    l1_ratio,\n",
    "    epsilon):\n",
    "\n",
    "    # feature = SkewedChi2Sampler(n_components=250,\n",
    "    #                          skewedness=pow(10,skewedness),\n",
    "    #                          random_state=777)\n",
    "    \n",
    "    # degree = int(degree)\n",
    "    \n",
    "    # n_components = int(n_components)\n",
    "    \n",
    "    feature = Nystroem(kernel='rbf', gamma=gamma, n_components=x_train.shape[1], random_state=777, n_jobs=4)\n",
    "    \n",
    "    \n",
    "    X_features = feature.fit_transform(x_train.values)\n",
    "    sgdr = SGDRegressor(loss='squared_epsilon_insensitive', penalty='elasticnet', max_iter=250,\n",
    "                        tol=pow(10,tol),\n",
    "                        epsilon=epsilon,\n",
    "                        l1_ratio=l1_ratio\n",
    "                       )\n",
    "    \n",
    "    return np.mean(cross_val_score(sgdr, X_features, y_train.values, cv=cv,\n",
    "                                   groups=groups, scoring='neg_mean_absolute_error',\n",
    "                                  n_jobs=n_jobs_skl))\n",
    "\n",
    "sgd_optimizer = BayesianOptimization(\n",
    "    f=sgd_hyper_param,\n",
    "    pbounds=pbounds,\n",
    "    verbose=1,\n",
    "    random_state=777,\n",
    ")\n",
    "\n",
    "sgd_optimizer.maximize(init_points=15, n_iter=150)"
   ]
  },
  {
   "cell_type": "code",
   "execution_count": null,
   "id": "9feb9fc4-d3cd-4e86-a3b3-50a3e8ba5614",
   "metadata": {},
   "outputs": [],
   "source": [
    "import pickle \n",
    "\n",
    "with open('data/saved_sgdmax.pkl', 'wb') as f:\n",
    "    pickle.dump(sgd_optimizer, f)"
   ]
  },
  {
   "cell_type": "code",
   "execution_count": null,
   "id": "0b624070-405a-4a1a-8821-87d69c6d6954",
   "metadata": {},
   "outputs": [],
   "source": [
    "import pickle \n",
    "with open('data/saved_sgdmax.pkl', 'rb') as f:\n",
    "    sgd_optimizer = pickle.load(f)"
   ]
  },
  {
   "cell_type": "code",
   "execution_count": null,
   "id": "069d77b5-2ae3-43cd-baa9-1f2068194b4f",
   "metadata": {
    "tags": []
   },
   "outputs": [],
   "source": [
    "if sgd_optimizer.max['target'] >= best_cv_score:\n",
    "    kernel_feature = Nystroem(kernel='rbf', gamma=pow(10, sgd_optimizer.max['params']['gamma']),\n",
    "                      n_components=x_train.shape[1], random_state=777, n_jobs=n_jobs_skl)\n",
    "    X_features = kernel_feature.fit_transform(x_train.values)\n",
    "    sgdr = SGDRegressor(loss='squared_epsilon_insensitive', penalty='elasticnet', max_iter=100)\n",
    "    \n",
    "    sgdr.set_params(\n",
    "        tol=pow(10, sgd_optimizer.max['params']['tol']),\n",
    "        l1_ratio=sgd_optimizer.max['params']['l1_ratio']\n",
    "        )\n",
    "    sgdr.fit(pd.DataFrame(X_features, columns=x_train.columns), y_train.values)\n",
    "    model = sgdr\n",
    "    best_cv_score = sgd_optimizer.max['target']"
   ]
  },
  {
   "cell_type": "code",
   "execution_count": null,
   "id": "ff5aef5c-b654-4871-b3ba-75987750d6b1",
   "metadata": {
    "tags": []
   },
   "outputs": [],
   "source": [
    "perm_importance_sgd = permutation_importance(sgdr, pd.DataFrame(X_features, columns=x_train.columns), y_train)\n",
    "\n",
    "feature_names_sgd = x_train.columns\n",
    "features_sgd = np.array(feature_names_sgd)\n",
    "\n",
    "sorted_idx_sgd = perm_importance_sgd.importances_mean.argsort()"
   ]
  },
  {
   "cell_type": "code",
   "execution_count": null,
   "id": "e8cac954-f754-463f-ba09-70e0a79d4d6f",
   "metadata": {},
   "outputs": [],
   "source": [
    "plt.rcParams['figure.figsize'] = [12, 20]\n",
    "plt.barh(features_sgd[sorted_idx_sgd], perm_importance_sgd.importances_mean[sorted_idx_sgd])\n",
    "plt.xlabel(\"Permutation Importance\")"
   ]
  },
  {
   "cell_type": "markdown",
   "id": "42f986f6-7e0b-4d61-89cd-365c190efb4b",
   "metadata": {
    "tags": []
   },
   "source": [
    "#### Light GBM\n",
    "\n",
    "This algorithm, if set properly, can be much faster to train than XGBoost\n",
    "\n",
    "Spoiler: it did not outperform Linear SVR"
   ]
  },
  {
   "cell_type": "code",
   "execution_count": 47,
   "id": "1a183e50-3f70-4b28-99b0-63aaa4934baf",
   "metadata": {},
   "outputs": [
    {
     "data": {
      "text/plain": [
       "LGBMRegressor(boosting_type='goss', n_estimators=500, n_jobs=None,\n",
       "              random_state=777, subsample_for_bin=50000)"
      ]
     },
     "execution_count": 47,
     "metadata": {},
     "output_type": "execute_result"
    }
   ],
   "source": [
    "lgbm = LGBMRegressor(boosting_type='goss', num_leaves=31, max_depth=- 1, learning_rate=0.1, n_estimators=500, subsample_for_bin=50000,\n",
    "                     objective=None, class_weight=None, min_split_gain=0.0, min_child_weight=0.001, min_child_samples=20, subsample=1.0,\n",
    "                     subsample_freq=0, colsample_bytree=1.0, reg_alpha=0.0, reg_lambda=0.0, random_state=777, n_jobs=None,\n",
    "                     importance_type='split')\n",
    "lgbm.fit(x_train, y_train)"
   ]
  },
  {
   "cell_type": "code",
   "execution_count": 48,
   "id": "bef05fde-081e-425c-a60d-5f10de31315f",
   "metadata": {},
   "outputs": [
    {
     "name": "stdout",
     "output_type": "stream",
     "text": [
      "-0.24421518217840232\n"
     ]
    }
   ],
   "source": [
    "cv_score_lgb = cross_val_score(lgbm, x_train, y_train.values, cv=cv,\n",
    "                               groups=groups, scoring='neg_mean_absolute_error').mean()\n",
    "print(cv_score_lgb)\n",
    "if cv_score_lgb>=best_cv_score:\n",
    "    model = lgbm\n",
    "    best_cv_score = cv_score_lgb"
   ]
  },
  {
   "cell_type": "raw",
   "id": "56da3245-3e58-4389-a7d0-24bb4698b7fd",
   "metadata": {
    "tags": []
   },
   "source": [
    "# Bayesian optimization\n",
    "\n",
    "pbounds = {\n",
    "    'num_leaves':(10,50),\n",
    "    'learning_rate': (-3,0),\n",
    "    'n_estimators': (100, 2500),\n",
    "    'subsample_for_bin': (10000, 200000),\n",
    "    'min_child_samples': (10,30),\n",
    "    'subsample': (0.5,1.0),\n",
    "    'colsample_bytree': (0.5,1),\n",
    "    'reg_lambda': (0,3),\n",
    "    'reg_alpha': (0,3)}\n",
    "\n",
    "def lgb_hyper_param(\n",
    "    num_leaves,\n",
    "    learning_rate,\n",
    "    n_estimators,\n",
    "    subsample_for_bin,\n",
    "    min_child_samples,\n",
    "    subsample,\n",
    "    colsample_bytree,\n",
    "    reg_lambda,\n",
    "    reg_alpha):\n",
    "\n",
    "    num_leaves = int(num_leaves)\n",
    "    n_estimators = int(n_estimators)\n",
    "    subsample_for_bin = int(subsample_for_bin)\n",
    "    min_child_samples = int(min_child_samples)\n",
    "\n",
    "    lgbm = LGBMRegressor(\n",
    "        boosting_type='goss', num_leaves=num_leaves, max_depth=- 1, learning_rate=pow(10,learning_rate),\n",
    "        n_estimators=n_estimators,\n",
    "        subsample_for_bin=subsample_for_bin,\n",
    "        objective=None, class_weight=None, min_split_gain=0.0, min_child_weight=0.001,\n",
    "        min_child_samples=min_child_samples,\n",
    "        subsample=subsample,\n",
    "        subsample_freq=0, colsample_bytree=colsample_bytree,\n",
    "        reg_alpha=reg_alpha, reg_lambda=reg_lambda,\n",
    "        random_state=777, n_jobs=None,\n",
    "        importance_type='split'\n",
    "    )\n",
    "    \n",
    "    return np.mean(cross_val_score(lgbm, x_train.values, y_train.values, cv=cv, groups=groups,\n",
    "                                   scoring='neg_mean_absolute_error', n_jobs=n_jobs_skl))\n",
    "\n",
    "lgb_optimizer = BayesianOptimization(\n",
    "    f=lgb_hyper_param,\n",
    "    pbounds=pbounds,\n",
    "    verbose=2,\n",
    "    random_state=777,\n",
    ")\n",
    "\n",
    "lgb_optimizer.maximize(init_points=15, n_iter=50)"
   ]
  },
  {
   "cell_type": "raw",
   "id": "c2211b8b-6c86-41b1-92df-82c7ba2ff056",
   "metadata": {},
   "source": [
    "lgb_optimizer.max['target']"
   ]
  },
  {
   "cell_type": "raw",
   "id": "a43faa00-5721-4a64-ae95-fbbd4e2679d5",
   "metadata": {},
   "source": [
    "lgb_optimizer_max = lgb_optimizer.max"
   ]
  },
  {
   "cell_type": "raw",
   "id": "ca2dbece-c178-4787-9490-2f320313a529",
   "metadata": {},
   "source": [
    "import pickle \n",
    "\n",
    "with open('data/saved_lgbmax.pkl', 'wb') as f:\n",
    "    pickle.dump(lgb_optimizer_max, f)"
   ]
  },
  {
   "cell_type": "raw",
   "id": "55b0b8eb-1ecd-42a4-ae1c-393e13a52a9f",
   "metadata": {},
   "source": [
    "import pickle \n",
    "with open('data/saved_lgbmax.pkl', 'rb') as f:\n",
    "    lgb_optimizer_max = pickle.load(f)"
   ]
  },
  {
   "cell_type": "raw",
   "id": "d0841e4f-c9d7-460e-9054-69760d3d1a2e",
   "metadata": {},
   "source": [
    "if lgb_optimizer_max['target'] >= best_cv_score:\n",
    "    lgbm = LGBMRegressor(boosting_type='goss', random_state = 777)\n",
    "    lgbm.set_params(\n",
    "        num_leaves=round(lgb_optimizer_max['params']['num_leaves']),\n",
    "        learning_rate=pow(10, lgb_optimizer_max['params']['learning_rate']),\n",
    "        n_estimators=round(lgb_optimizer_max['params']['n_estimators']),\n",
    "        subsample_for_bin=round(lgb_optimizer_max['params']['subsample_for_bin']),\n",
    "        min_child_samples=round(lgb_optimizer_max['params']['min_child_samples']),\n",
    "        subsample=lgb_optimizer_max['params']['subsample'],\n",
    "        colsample_bytree=lgb_optimizer_max['params']['colsample_bytree'],\n",
    "        reg_lambda=lgb_optimizer_max['params']['reg_lambda'],\n",
    "        reg_alpha=lgb_optimizer_max['params']['reg_alpha'],\n",
    "        )\n",
    "    lgbm.fit(x_train, y_train)\n",
    "    model = lgbm\n",
    "    cv_score_lgb = lgb_optimizer_max['target']"
   ]
  },
  {
   "cell_type": "raw",
   "id": "6708a9ca-0137-4499-8db0-e59c0078b911",
   "metadata": {
    "tags": []
   },
   "source": [
    "perm_importance_lgb = permutation_importance(lgbm, x_train, y_train)\n",
    "\n",
    "feature_names_lgb = x_train.columns\n",
    "features_lgb = np.array(feature_names_lgb)\n",
    "\n",
    "sorted_idx_lgb = perm_importance_lgb.importances_mean.argsort()"
   ]
  },
  {
   "cell_type": "raw",
   "id": "ff7ce749-d401-479a-9706-e97f371c8522",
   "metadata": {},
   "source": [
    "plt.rcParams['figure.figsize'] = [12, 20]\n",
    "plt.barh(features_lgb[sorted_idx_lgb], perm_importance_lgb.importances_mean[sorted_idx_lgb])\n",
    "plt.xlabel(\"Permutation Importance\")"
   ]
  },
  {
   "cell_type": "raw",
   "id": "e1351981-f870-4b01-ae85-1e4ef310a40d",
   "metadata": {},
   "source": [
    "lgbm = LGBMRegressor(boosting_type='goss', random_state = 777)\n",
    "lgbm.set_params(\n",
    "    num_leaves=round(lgb_optimizer_max['params']['num_leaves']),\n",
    "    learning_rate=pow(10, lgb_optimizer_max['params']['learning_rate']),\n",
    "    n_estimators=round(lgb_optimizer_max['params']['n_estimators']),\n",
    "    subsample_for_bin=round(lgb_optimizer_max['params']['subsample_for_bin']),\n",
    "    min_child_samples=round(lgb_optimizer_max['params']['min_child_samples']),\n",
    "    subsample=lgb_optimizer_max['params']['subsample'],\n",
    "    colsample_bytree=lgb_optimizer_max['params']['colsample_bytree'],\n",
    "    reg_lambda=lgb_optimizer_max['params']['reg_lambda'],\n",
    "    reg_alpha=lgb_optimizer_max['params']['reg_alpha'],\n",
    "    )\n",
    "lgbm.fit(x_train, y_train)\n",
    "model = lgbm\n",
    "cv_score_lgb = lgb_optimizer_max['target']"
   ]
  },
  {
   "cell_type": "markdown",
   "id": "399c90b3-7f60-4933-8134-82e423a6a58b",
   "metadata": {},
   "source": [
    "#### Catboost"
   ]
  },
  {
   "cell_type": "raw",
   "id": "6217a0be-4a66-4787-836b-792bc162f93c",
   "metadata": {},
   "source": [
    "from catboost import CatBoostRegressor"
   ]
  },
  {
   "cell_type": "raw",
   "id": "a0f0166e-f2ca-47bf-ae6c-4c6c315ecb26",
   "metadata": {},
   "source": [
    "catboost = CatBoostRegressor(iterations=2,\n",
    "                          learning_rate=1,\n",
    "                          depth=2,\n",
    "                             loss_function='MAE',\n",
    "                            verbose=0)\n",
    "# Fit model\n",
    "catboost.fit(x_train, y_train)"
   ]
  },
  {
   "cell_type": "raw",
   "id": "132030e6-8be9-4cc0-91b9-c39ce647f944",
   "metadata": {},
   "source": [
    "cv_score_cat = cross_val_score(catboost, x_train, y_train.values, cv=cv, groups=groups, \n",
    "                               scoring='neg_mean_absolute_error', n_jobs=n_jobs_skl).mean()\n",
    "print(cv_score_cat)\n",
    "if cv_score_cat>=best_cv_score:\n",
    "    model = catboost\n",
    "    best_cv_score = cv_score_cat"
   ]
  },
  {
   "cell_type": "raw",
   "id": "baa049e7-6505-4204-9a20-64f3a48cabee",
   "metadata": {},
   "source": [
    "# Bayesian optimization\n",
    "\n",
    "pbounds = {\n",
    "    'depth': (2,10),\n",
    "    'learning_rate': (-4,0),\n",
    "    'iterations': (10, 1000),\n",
    "    'random_strength': (-9, 1),\n",
    "    'bagging_temperature': (0.0, 1.0),\n",
    "    'l2_leaf_reg': (0., 30.)}\n",
    "\n",
    "def cat_hyper_param(depth,\n",
    "    learning_rate,\n",
    "    iterations,\n",
    "    random_strength,\n",
    "    bagging_temperature,\n",
    "    l2_leaf_reg):\n",
    "\n",
    "    depth = int(depth)\n",
    "    iterations = int(iterations)\n",
    "\n",
    "    catboost = CatBoostRegressor(depth=depth,\n",
    "                            learning_rate=pow(10,learning_rate),\n",
    "                            iterations=iterations,\n",
    "                            random_strength=pow(10,random_strength),\n",
    "                            bagging_temperature=bagging_temperature,\n",
    "                            l2_leaf_reg=l2_leaf_reg,\n",
    "                             loss_function='MAE',\n",
    "                             verbose=0)\n",
    "    \n",
    "    return np.mean(cross_val_score(catboost, x_train.values, y_train.values,\n",
    "                                   cv=cv, groups=groups, scoring='neg_mean_absolute_error',\n",
    "                                  n_jobs=n_jobs_skl))\n",
    "\n",
    "cat_optimizer = BayesianOptimization(\n",
    "                f=cat_hyper_param,\n",
    "                pbounds=pbounds,\n",
    "                verbose=2,\n",
    "                random_state=777,\n",
    "            )\n",
    "\n",
    "cat_optimizer.maximize(init_points=15, n_iter=50)"
   ]
  },
  {
   "cell_type": "raw",
   "id": "89c9c6b5-9819-451a-8c1f-b4ba9b189179",
   "metadata": {},
   "source": [
    "cat_optimizer_max = cat_optimizer.max"
   ]
  },
  {
   "cell_type": "raw",
   "id": "26fb63e4-06e1-442a-bd6f-09a3212fa770",
   "metadata": {},
   "source": [
    "import pickle \n",
    "\n",
    "with open('data/saved_catmax.pkl', 'wb') as f:\n",
    "    pickle.dump(cat_optimizer_max, f)"
   ]
  },
  {
   "cell_type": "raw",
   "id": "f7da2737-a48a-41b5-a60c-3c4e36b7ebdd",
   "metadata": {},
   "source": [
    "import pickle \n",
    "with open('data/saved_catmax.pkl', 'rb') as f:\n",
    "    cat_optimizer_max = pickle.load(f)"
   ]
  },
  {
   "cell_type": "raw",
   "id": "46ba04a7-6027-4cda-890c-a2dcc7d0dd63",
   "metadata": {},
   "source": [
    "if cat_optimizer_max['target'] >= best_cv_score:\n",
    "    catboost = CatBoostRegressor(loss_function='MAE', verbose=0)\n",
    "    catboost.set_params(\n",
    "        depth=int(cat_optimizer_max['params']['depth']),\n",
    "        learning_rate=pow(10, cat_optimizer_max['params']['learning_rate']),\n",
    "        iterations=int(cat_optimizer_max['params']['iterations']),\n",
    "        random_strength=pow(10, cat_optimizer_max['params']['random_strength']),\n",
    "        bagging_temperature=cat_optimizer_max['params']['bagging_temperature'],\n",
    "        l2_leaf_reg=cat_optimizer_max['params']['l2_leaf_reg']\n",
    "        )\n",
    "    catboost.fit(x_train, y_train)\n",
    "    model = catboost\n",
    "    cv_score_lgb = cat_optimizer_max['target']"
   ]
  },
  {
   "cell_type": "markdown",
   "id": "abc844f7-9804-4148-9f19-fa9b85b79357",
   "metadata": {},
   "source": [
    "#### Neural networks\n",
    "\n",
    "We attempt basic ANN with one, two and three layers, set accordingly considering that this is a regressionproblem\n",
    "\n",
    "Spoiler: they do not outperform\n",
    "\n",
    "A possible extension is implementing LSTM/GRU"
   ]
  },
  {
   "cell_type": "raw",
   "id": "19077598-d0a1-4a96-a3be-64262dd8c2a7",
   "metadata": {},
   "source": [
    "from tensorflow.keras import Model, Sequential\n",
    "from tensorflow.keras.wrappers.scikit_learn import KerasRegressor\n",
    "from tensorflow.keras.callbacks import EarlyStopping, ModelCheckpoint\n",
    "from tensorflow.keras.optimizers import Adam, SGD, RMSprop, Adadelta, Adagrad, Adamax, Nadam, Ftrl\n",
    "from tensorflow.keras.layers import Dense, Dropout, LSTM, LeakyReLU, BatchNormalization\n",
    "from tensorflow.keras.losses import MeanAbsoluteError, MeanSquaredError\n",
    "import tensorflow as tf\n",
    "from tensorflow.keras.utils import plot_model\n",
    "# tf.compat.v1.disable_eager_execution()"
   ]
  },
  {
   "cell_type": "raw",
   "id": "bba279f6-e698-4aaa-b728-ce3491371698",
   "metadata": {},
   "source": [
    "hidden_units1 = 100\n",
    "# hidden_units2 = 50\n",
    "learning_rate = 0.001\n",
    "# Creating model using the Sequential in tensorflow\n",
    "def build_model_using_sequential1():\n",
    "    model = Sequential([\n",
    "        Dense(hidden_units1, kernel_initializer='normal', activation='relu'),\n",
    "        Dense(hidden_units1, kernel_initializer='normal', activation='relu'),\n",
    "        Dense(1, kernel_initializer='normal')\n",
    "    ])\n",
    "    mse = MeanSquaredError()\n",
    "    model.compile(loss=mse, optimizer=Adam(learning_rate=learning_rate), metrics=[mse])\n",
    "    return model"
   ]
  },
  {
   "cell_type": "raw",
   "id": "451d7c2a-dd42-4b69-ab7f-8653de4d8c7e",
   "metadata": {},
   "source": [
    "es = EarlyStopping(monitor='mean_squared_error', mode='min', verbose=0, patience=10)\n",
    "ann_model1 = KerasRegressor(build_fn=build_model_using_sequential1, epochs=200, batch_size=64, verbose=0)\n",
    "ann_model1.fit(np.asarray(x_train), np.asarray(y_train), verbose=1, callbacks=[es])"
   ]
  },
  {
   "cell_type": "raw",
   "id": "8b1a943c-6a4d-4245-b045-d77d34635a92",
   "metadata": {},
   "source": [
    "import os\n",
    "os.environ['TF_CPP_MIN_LOG_LEVEL'] = '2' # to suppress the warning generated about compiler flag\n",
    "\n",
    "cv_score_nn = cross_val_score(ann_model1,\n",
    "                              x_train.values,\n",
    "                              y_train.values,\n",
    "                              groups=groups, cv=cv, scoring='neg_mean_absolute_error',\n",
    "                             n_jobs = n_jobs_skl).mean()\n",
    "\n",
    "print(cv_score_nn)"
   ]
  },
  {
   "cell_type": "raw",
   "id": "02c8329a-4bee-40e5-b74d-fcf8d88270e4",
   "metadata": {},
   "source": [
    "if cv_score_nn>=best_cv_score: model = ann_model1"
   ]
  },
  {
   "cell_type": "markdown",
   "id": "a16072f1-3c11-4c17-90f7-d881ace324fa",
   "metadata": {
    "tags": []
   },
   "source": [
    "## Forecasting final resutls"
   ]
  },
  {
   "cell_type": "markdown",
   "id": "c3bd3dce-65c2-43e5-833f-4b36ac8414ac",
   "metadata": {},
   "source": [
    "### Adjusting for census 2020 and 2021\n",
    "\n",
    "This comes after a census adjustment of MBD - it is mentioned in the comments of the competition, and is completely ad-hoc\n",
    "\n",
    "Source: https://www.kaggle.com/competitions/godaddy-microbusiness-density-forecasting/discussion/389215"
   ]
  },
  {
   "cell_type": "code",
   "execution_count": null,
   "id": "26afc017-b985-4c35-9538-e4d3345fe969",
   "metadata": {},
   "outputs": [],
   "source": [
    "COLS = ['GEO_ID','NAME','S0101_C01_026E']\n",
    "df2020 = pd.read_csv('data/census_godaddy/ACSST5Y2020.S0101-Data.csv',usecols=COLS)\n",
    "df2020 = df2020.iloc[1:]\n",
    "df2020['S0101_C01_026E'] = df2020['S0101_C01_026E'].astype('int')\n",
    "print( df2020.shape )"
   ]
  },
  {
   "cell_type": "code",
   "execution_count": null,
   "id": "4c99e5ef-5e1f-48ba-b1c9-d9c8338c0a35",
   "metadata": {},
   "outputs": [],
   "source": [
    "df2021 = pd.read_csv('data/census_godaddy/ACSST5Y2021.S0101-Data.csv',usecols=COLS)\n",
    "df2021 = df2021.iloc[1:]\n",
    "df2021['S0101_C01_026E'] = df2021['S0101_C01_026E'].astype('int')\n",
    "print( df2021.shape )"
   ]
  },
  {
   "cell_type": "code",
   "execution_count": null,
   "id": "2afe13cb-f44a-4cb5-b1b7-c8332a8901cd",
   "metadata": {},
   "outputs": [],
   "source": [
    "df2020['cfips'] = df2020.GEO_ID.apply(lambda x: int(x.split('US')[-1]) )\n",
    "adult2020 = df2020.set_index('cfips').S0101_C01_026E.to_dict()\n",
    "\n",
    "df2021['cfips'] = df2021.GEO_ID.apply(lambda x: int(x.split('US')[-1]) )\n",
    "adult2021 = df2021.set_index('cfips').S0101_C01_026E.to_dict()"
   ]
  },
  {
   "cell_type": "markdown",
   "id": "8e1e165a-fd49-4ffd-beff-3ff7bae098fb",
   "metadata": {},
   "source": [
    "### Generating predictions\n",
    "\n",
    "First, we generate a dataframe that merges train and test datasets - since we use lagged variables, we need both datasets!"
   ]
  },
  {
   "cell_type": "code",
   "execution_count": null,
   "id": "6b1ca704-3829-4ea1-b32a-1455a809da55",
   "metadata": {},
   "outputs": [],
   "source": [
    "test_scaled_copy = test_scaled.copy()\n",
    "test_scaled_copy = test_scaled_copy.sort_values(['first_day_of_month', 'cfips'])\n",
    "\n",
    "test_scaled_copy = test_scaled_copy.drop([x for x in test_scaled_copy.columns if not x in train_scaled.columns], axis=1)\n",
    "target = 'gwt_m'\n",
    "\n",
    "for column in columns_to_add:\n",
    "    test_scaled_copy[column] = np.repeat(np.nan, len(test_scaled_copy))\n",
    "\n",
    "train_test_merge = pd.concat([train_scaled, test_scaled_copy], ignore_index=True)\n",
    "train_test_merge['first_day_of_month'] = pd.to_datetime(train_test_merge.first_day_of_month)"
   ]
  },
  {
   "cell_type": "code",
   "execution_count": null,
   "id": "0f2cdd97-93f9-47e7-aed2-d8e5f24ce70e",
   "metadata": {},
   "outputs": [],
   "source": [
    "# settings for the forecast below\n",
    "adjustment=True"
   ]
  },
  {
   "cell_type": "markdown",
   "id": "56086f6c-1bf6-4758-9770-4a979b3794fc",
   "metadata": {},
   "source": [
    "**Note:** the function below does not follow coding best practices, as you can tell... but for now this is as far as I'll go regarding optimizing - unless I get requests :)"
   ]
  },
  {
   "cell_type": "code",
   "execution_count": null,
   "id": "87bffe10-eddd-422e-b75d-fc64c1798c5c",
   "metadata": {
    "tags": []
   },
   "outputs": [],
   "source": [
    "train_test_merge['adult2020'] = train_test_merge.cfips.map(adult2020)\n",
    "train_test_merge['adult2021'] = train_test_merge.cfips.map(adult2021)\n",
    "_iteration = 1\n",
    "n_iterations = len(test_scaled.first_day_of_month.unique())\n",
    "\n",
    "for date in test_scaled.first_day_of_month.unique():\n",
    "    \n",
    "    print('Date of iteration: '+ str(date) + str(' --- ' + str(_iteration)+'/'+str(n_iterations)), end = \"\\r\")\n",
    "    _iteration+=1\n",
    "    \n",
    "    ##########\n",
    "    # not-neighbors lagged\n",
    "    train_test_merge[['mbd(t-{})'.format(f) for f in lag_list]] = ffunc.shift_where(\n",
    "        train_test_merge, 'mbd', 'microbusiness_density', lag_list=lag_list, date=date)\n",
    "    \n",
    "    for var in ['gwt_m','gwt_q','active']:\n",
    "        train_test_merge[[f'{var}(t-{lag})'.format(lag) for lag in lag_list]] = ffunc.shift_where(\n",
    "            train_test_merge, var, var, lag_list=lag_list, date=date)\n",
    "    \n",
    "    ############\n",
    "    # VF data\n",
    "    train_test_merge[['{}(t-12)'.format(col) for col in vf_columns]] = ffunc.shift_columns_where(\n",
    "        data=train_test_merge, lag=12, col_list=vf_columns, date=date)\n",
    "    \n",
    "    \n",
    "    ############\n",
    "    # neighbors\n",
    "    train_test_merge[[f'mbd(t-{lag})_nearest_{i}' for lag, i in lag_neigh_c]] = ffunc.shift_where_neighbors(\n",
    "        train_test_merge, 'mbd', lag_list, neighb_list=neighb_list, date=date)\n",
    "    \n",
    "    train_test_merge[[f'gwt_m(t-{lag})_nearest_{i}' for lag, i in lag_neigh_c]] = ffunc.shift_where_neighbors(\n",
    "        train_test_merge, lag_list=lag_list,\n",
    "        neighb_list=neighb_list, date=date, abv_column_replaced='gwt_m',)\n",
    "    \n",
    "    train_test_merge[[f'gwt_q(t-{lag})_nearest_{i}' for lag, i in lag_neigh_c]] = ffunc.shift_where_neighbors(\n",
    "        train_test_merge, lag_list=lag_list,\n",
    "        neighb_list=neighb_list, date=date, abv_column_replaced='gwt_q')\n",
    "    #  \n",
    "    \n",
    "    ##########\n",
    "    # rolling mean\n",
    "    train_test_merge[['mbd_rolling_mean(t-{})'.format(lag) for lag in lag_rolling_list]] = ffunc.rolling_where(\n",
    "        train_test_merge, 'mbd', 'microbusiness_density', date=date, lag_list=lag_rolling_list)\n",
    "    \n",
    "    train_test_merge[['gwt_m_rolling_mean(t-{})'.format(lag) for lag in lag_rolling_list]] = ffunc.rolling_where(\n",
    "        train_test_merge, 'gwt_m', 'gwt_m', date=date, lag_list=lag_rolling_list)\n",
    "    \n",
    "    train_test_merge[['active_rolling_mean(t-{})'.format(lag) for lag in lag_rolling_list]] = ffunc.rolling_where(\n",
    "        train_test_merge, 'active', 'active', date=date, lag_list=lag_rolling_list)\n",
    "    \n",
    "    ##########################################\n",
    "    # forecasting mbd\n",
    "    x_test_date = train_test_merge[train_test_merge.first_day_of_month==date][x_columns]\n",
    "    x_test_date = pd.DataFrame(x_scaler.transform(x_test_date), columns = x_test_date.columns)\n",
    "    if isinstance(model, SGDRegressor): x_test_date = kernel_feature.transform(x_test_date)\n",
    "    y_test_predictions = model.predict(x_test_date)\n",
    "        \n",
    "    train_test_merge.loc[train_test_merge.first_day_of_month==date, target] = list(itertools.chain(\n",
    "        *y_scaler.inverse_transform(np.array(y_test_predictions).reshape(-1,1))))\n",
    "    train_test_merge['microbusiness_density'] = np.where(\n",
    "        train_test_merge.first_day_of_month==date,\n",
    "        pfunc.shift_time(train_test_merge, 1)['microbusiness_density'] *(1+ train_test_merge['gwt_m'].astype('float32')),\n",
    "        train_test_merge['microbusiness_density'])\n",
    "    \n",
    "    \n",
    "    if adjustment==True and date==test_scaled.first_day_of_month.unique()[0]:\n",
    "        train_test_merge['microbusiness_density'] = train_test_merge['microbusiness_density'] * (\n",
    "            train_test_merge.adult2020 / train_test_merge.adult2021)\n",
    "        \n",
    "    train_test_merge['gwt_q'] = np.where(train_test_merge.first_day_of_month==date,\n",
    "                                            pfunc.gwt_f(train_test_merge, 'microbusiness_density', time_gwt=3, lag=0),\n",
    "                                            train_test_merge['gwt_q'])\n",
    "    # active:\n",
    "    train_test_merge['active'] = np.where(train_test_merge.first_day_of_month==date,\n",
    "                                            train_test_merge['microbusiness_density']*train_test_merge.adult2020,\n",
    "                                            train_test_merge['active'])\n",
    "    \n",
    "    try:\n",
    "        pd.options.mode.chained_assignment = None\n",
    "        for i in range(1,max_neighbors+1):\n",
    "            _mbd_array = train_test_merge[train_test_merge.first_day_of_month==date].sort_values(\n",
    "                by=[f'mbd_nearest_{i}'], key=lambda x: x.map(agg[f'mbd_nearest_{i}'].to_dict()))\n",
    "            _mbd_array = _mbd_array['microbusiness_density']\n",
    "            _mbd_array = _mbd_array.reindex(train_test_merge[train_test_merge.first_day_of_month==date].index)\n",
    "            train_test_merge[f'mbd_nearest_{i}'][_mbd_array.index] = _mbd_array\n",
    "    finally:\n",
    "        pd.options.mode.chained_assignment = 'warn'\n",
    "    \n",
    "    \n",
    "    train_test_merge[[f'gwt_m_nearest_{i}' for i in neighb_list]] = [*zip(\n",
    "        *[np.where(\n",
    "                train_test_merge.first_day_of_month==date,\n",
    "                pfunc.gwt_f(train_test_merge, f'mbd_nearest_{i}', time_gwt=1),\n",
    "                train_test_merge[f'gwt_m_nearest_{i}'])\n",
    "         for i in range(1, max_neighbors+1)\n",
    "        ]\n",
    "    )]\n",
    "    train_test_merge[[f'gwt_q_nearest_{i}' for i in neighb_list]] = [*zip(\n",
    "        *[np.where(\n",
    "                train_test_merge.first_day_of_month==date,\n",
    "                pfunc.gwt_f(train_test_merge, f'mbd_nearest_{i}', time_gwt=3),\n",
    "                train_test_merge[f'gwt_q_nearest_{i}'])\n",
    "         for i in range(1, max_neighbors+1)\n",
    "        ]\n",
    "    )]\n",
    "train_test_merge = train_test_merge.drop(['adult2020','adult2021'], axis=1)"
   ]
  },
  {
   "cell_type": "code",
   "execution_count": null,
   "id": "ee6048f9-12dc-445b-882c-dc9b6b0c7774",
   "metadata": {},
   "outputs": [],
   "source": [
    "train_test_merge.to_csv('final_df_results.csv', index=False)\n",
    "train_test_merge[['first_day_of_month','state','cfips','county','microbusiness_density']].to_csv('dash_df.csv', index=False)"
   ]
  },
  {
   "cell_type": "markdown",
   "id": "bc36c6cc-88c3-45e5-a4c0-d4c54c4ffe96",
   "metadata": {},
   "source": [
    "**With ex-post adjustment**\n",
    "\n",
    "As said before, there was an adjustment due to census"
   ]
  },
  {
   "cell_type": "code",
   "execution_count": null,
   "id": "9cace574-f722-44d9-8972-467ce6b83efa",
   "metadata": {
    "tags": []
   },
   "outputs": [],
   "source": [
    "if adjustment==False:\n",
    "    test_results = train_test_merge[train_test_merge.first_day_of_month.isin(test_scaled.first_day_of_month.unique())]\n",
    "    df_results = pd.DataFrame(columns=['cfips','row_id','microbusiness_density'])\n",
    "    df_results['cfips'] = test_results['cfips'].values\n",
    "    df_results['row_id'] = test_results['row_id'].values\n",
    "    df_results['adult2020'] = df_results.cfips.map(adult2020)\n",
    "    df_results['adult2021'] = df_results.cfips.map(adult2021)\n",
    "    df_results['microbusiness_density'] = df_results['microbusiness_density'] * df_results.adult2020 / df_results.adult2021\n",
    "    df_results = df_results.drop(['cfips','adult2020','adult2021'], axis=1)\n",
    "    df_results = pd.concat([df_results, revealed_test_df[df_results.columns]])\n",
    "    \n",
    "if adjustment==True:\n",
    "    test_results = train_test_merge[train_test_merge.first_day_of_month.isin(test_scaled.first_day_of_month.unique())]\n",
    "    df_results = pd.DataFrame(columns=['row_id','microbusiness_density'])\n",
    "    df_results['row_id'] = test_results['row_id'].values\n",
    "    df_results['microbusiness_density']  = test_results['microbusiness_density'].values\n",
    "    df_results = pd.concat([df_results, revealed_test_df[df_results.columns]])"
   ]
  },
  {
   "cell_type": "code",
   "execution_count": null,
   "id": "0c7c6356-8f2a-4886-abda-5c88b42d4798",
   "metadata": {},
   "outputs": [],
   "source": [
    "df_results"
   ]
  },
  {
   "cell_type": "code",
   "execution_count": null,
   "id": "2ff250f0-9bb2-4389-a2b1-29aa126853bc",
   "metadata": {},
   "outputs": [],
   "source": [
    "df_results.to_csv('submission.csv',index=False)"
   ]
  },
  {
   "cell_type": "markdown",
   "id": "19544d6c-f402-4a3d-bfac-503b1ab6acbf",
   "metadata": {},
   "source": [
    "## Final results: plot"
   ]
  },
  {
   "cell_type": "code",
   "execution_count": null,
   "id": "72e24d93-7f04-42a8-aab7-a1452075dfb2",
   "metadata": {},
   "outputs": [],
   "source": [
    "dash_df = pd.read_csv('dash_df.csv')"
   ]
  },
  {
   "cell_type": "code",
   "execution_count": null,
   "id": "3ee8cefa-6766-4038-b937-38168af7d4bd",
   "metadata": {},
   "outputs": [],
   "source": [
    "def plot_test_test():\n",
    "    random_state = random.choice(train_df.state.unique()) #1003 # 56041\n",
    "    if states_dummy: plot_df = dash_df[dash_df['state_'+random_state]==1]\n",
    "    else: plot_df = dash_df[dash_df['state']==random_state]\n",
    "\n",
    "    fig = go.Figure()\n",
    "    for cfips in plot_df.cfips.unique():\n",
    "        plot_df_cfips = plot_df[plot_df.cfips==cfips]\n",
    "        cfips_name = plot_df_cfips.county.unique()[0]\n",
    "        fig.add_scattergl(y=plot_df_cfips['microbusiness_density'],\n",
    "                          x=plot_df_cfips['first_day_of_month'].where(plot_df['first_day_of_month'].isin(\n",
    "                              list(train_df.first_day_of_month) + [test_df.first_day_of_month[0]])),\n",
    "                          line={'color': 'black'},\n",
    "                          mode='lines+markers',\n",
    "                         name=cfips_name+' (observed)')\n",
    "\n",
    "        # Above threshhgold\n",
    "        fig.add_scattergl(y=plot_df_cfips['microbusiness_density'],\n",
    "                          x=plot_df_cfips['first_day_of_month'].where(plot_df['first_day_of_month'].isin(test_df.first_day_of_month)),\n",
    "                          line={'color': 'red'},\n",
    "                          mode='lines+markers',\n",
    "                         name=cfips_name+' (forecast)')\n",
    "\n",
    "    fig.update_yaxes(type='log')\n",
    "    \n",
    "    fig.update_layout(\n",
    "        # width=1000,\n",
    "        height=600,\n",
    "        title=\"MBD forecast for state {}\".format(str(random_state)),\n",
    "        xaxis_title=\"Date\",\n",
    "        yaxis_title=\"Microbusiness density\",\n",
    "        # legend_title=\"Legend Title\",\n",
    "        legend = dict(font = dict(family = \"Courier\", size = 8, color = \"black\")),\n",
    "        font=dict(\n",
    "            family=\"Courier New, monospace\",\n",
    "            size=18,\n",
    "            color=\"RebeccaPurple\"\n",
    "        )\n",
    "    )\n",
    "\n",
    "    fig.show()\n",
    "\n",
    "plot_test_test()"
   ]
  },
  {
   "cell_type": "code",
   "execution_count": null,
   "id": "f5787f09-1ba3-44e6-85fa-2feb8df36eba",
   "metadata": {},
   "outputs": [],
   "source": [
    "import random\n",
    "import time\n",
    "i=5\n",
    "while i>0:\n",
    "    plot_cfips = random.choice(train_test_merge.cfips.unique()) #1003 # 56041\n",
    "    plot_df = train_test_merge[train_test_merge.cfips==plot_cfips].set_index(train_test_merge.first_day_of_month.unique())\n",
    "    #plot_df\n",
    "\n",
    "    # plot result\n",
    "    fig, ax = plt.subplots(figsize=(12,6))\n",
    "    figsize=(10,6)\n",
    "    plot_df[plot_df.index.isin(train_scaled.first_day_of_month.unique())].microbusiness_density.plot(\n",
    "        figsize=figsize, color = \"black\")\n",
    "    plot_df[plot_df.index.isin([train_scaled.first_day_of_month.unique()[-1]]+list(test_scaled.first_day_of_month.unique()))].microbusiness_density.plot(\n",
    "        figsize=figsize, color = \"red\")\n",
    "    plt.xlabel('Date')\n",
    "    plt.ylabel('Microbusiness densty')\n",
    "    plt.xticks(rotation=45)\n",
    "    plt.title(\"MBD forecast for CFIPS {}\".format(str(plot_cfips)))\n",
    "    plt.show()\n",
    "    i=i-1"
   ]
  },
  {
   "cell_type": "code",
   "execution_count": null,
   "id": "cff7c46b-ef4c-4fb3-ac97-855621ea758e",
   "metadata": {},
   "outputs": [],
   "source": []
  }
 ],
 "metadata": {
  "kernelspec": {
   "display_name": "Python 3 (ipykernel)",
   "language": "python",
   "name": "python3"
  },
  "language_info": {
   "codemirror_mode": {
    "name": "ipython",
    "version": 3
   },
   "file_extension": ".py",
   "mimetype": "text/x-python",
   "name": "python",
   "nbconvert_exporter": "python",
   "pygments_lexer": "ipython3",
   "version": "3.9.13"
  }
 },
 "nbformat": 4,
 "nbformat_minor": 5
}
